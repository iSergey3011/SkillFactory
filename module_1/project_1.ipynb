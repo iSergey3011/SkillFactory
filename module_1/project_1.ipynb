{
 "cells": [
  {
   "cell_type": "code",
   "execution_count": 1,
   "metadata": {
    "_cell_guid": "b1076dfc-b9ad-4769-8c92-a6c4dae69d19",
    "_uuid": "8f2839f25d086af736a60e9eeb907d3b93b6e0e5",
    "colab": {},
    "colab_type": "code",
    "id": "U2D2gTdJVp90"
   },
   "outputs": [],
   "source": [
    "import numpy as np\n",
    "import pandas as pd\n",
    "import seaborn as sns\n",
    "import matplotlib.pyplot as plt\n",
    "import itertools as itt\n",
    "%matplotlib inline\n",
    "from collections import Counter\n",
    "from datetime import datetime"
   ]
  },
  {
   "cell_type": "code",
   "execution_count": 2,
   "metadata": {
    "_cell_guid": "79c7e3d0-c299-4dcb-8224-4455121ee9b0",
    "_uuid": "d629ff2d2480ee46fbb7e2d37f6b5fab8052498a",
    "colab": {},
    "colab_type": "code",
    "id": "oyGfxL3eVp9-"
   },
   "outputs": [
    {
     "data": {
      "text/html": [
       "<div>\n",
       "<style scoped>\n",
       "    .dataframe tbody tr th:only-of-type {\n",
       "        vertical-align: middle;\n",
       "    }\n",
       "\n",
       "    .dataframe tbody tr th {\n",
       "        vertical-align: top;\n",
       "    }\n",
       "\n",
       "    .dataframe thead th {\n",
       "        text-align: right;\n",
       "    }\n",
       "</style>\n",
       "<table border=\"1\" class=\"dataframe\">\n",
       "  <thead>\n",
       "    <tr style=\"text-align: right;\">\n",
       "      <th></th>\n",
       "      <th>imdb_id</th>\n",
       "      <th>budget</th>\n",
       "      <th>revenue</th>\n",
       "      <th>original_title</th>\n",
       "      <th>cast</th>\n",
       "      <th>director</th>\n",
       "      <th>tagline</th>\n",
       "      <th>overview</th>\n",
       "      <th>runtime</th>\n",
       "      <th>genres</th>\n",
       "      <th>production_companies</th>\n",
       "      <th>release_date</th>\n",
       "      <th>vote_average</th>\n",
       "      <th>release_year</th>\n",
       "    </tr>\n",
       "  </thead>\n",
       "  <tbody>\n",
       "    <tr>\n",
       "      <th>1441</th>\n",
       "      <td>tt0458352</td>\n",
       "      <td>35000000</td>\n",
       "      <td>326551094</td>\n",
       "      <td>The Devil Wears Prada</td>\n",
       "      <td>Meryl Streep|Anne Hathaway|Emily Blunt|Stanley...</td>\n",
       "      <td>David Frankel</td>\n",
       "      <td>Meet Andy Sachs. A million girls would kill to...</td>\n",
       "      <td>The Devil Wears Prada is about a young journal...</td>\n",
       "      <td>109</td>\n",
       "      <td>Comedy|Drama|Romance</td>\n",
       "      <td>Twentieth Century Fox Film Corporation|Dune En...</td>\n",
       "      <td>6/30/2006</td>\n",
       "      <td>7.0</td>\n",
       "      <td>2006</td>\n",
       "    </tr>\n",
       "    <tr>\n",
       "      <th>1165</th>\n",
       "      <td>tt0289635</td>\n",
       "      <td>6400000</td>\n",
       "      <td>2500000</td>\n",
       "      <td>Young Adam</td>\n",
       "      <td>Ewan McGregor|Tilda Swinton|Peter Mullan|Emily...</td>\n",
       "      <td>David Mackenzie</td>\n",
       "      <td>Everyone has a past. Everyone has a secret.</td>\n",
       "      <td>A young drifter working on a river barge disru...</td>\n",
       "      <td>93</td>\n",
       "      <td>Drama|Thriller|Crime|Romance</td>\n",
       "      <td>Recorded Picture Company (RPC)</td>\n",
       "      <td>9/26/2003</td>\n",
       "      <td>5.9</td>\n",
       "      <td>2003</td>\n",
       "    </tr>\n",
       "    <tr>\n",
       "      <th>961</th>\n",
       "      <td>tt0261289</td>\n",
       "      <td>29000000</td>\n",
       "      <td>16930185</td>\n",
       "      <td>Serving Sara</td>\n",
       "      <td>Matthew Perry|Elizabeth Hurley|Vincent Pastore...</td>\n",
       "      <td>Reginald Hudlin</td>\n",
       "      <td>The One Thing That Could Bring Them Together I...</td>\n",
       "      <td>Serving Sara is a 2002 romantic comedy film wh...</td>\n",
       "      <td>100</td>\n",
       "      <td>Comedy|Romance</td>\n",
       "      <td>Paramount Pictures</td>\n",
       "      <td>8/20/2002</td>\n",
       "      <td>5.1</td>\n",
       "      <td>2002</td>\n",
       "    </tr>\n",
       "    <tr>\n",
       "      <th>1369</th>\n",
       "      <td>tt0340163</td>\n",
       "      <td>52000000</td>\n",
       "      <td>77944725</td>\n",
       "      <td>Hostage</td>\n",
       "      <td>Bruce Willis|Kevin Pollak|Jimmy Bennett|Michel...</td>\n",
       "      <td>Florent-Emilio Siri</td>\n",
       "      <td>Every Second Counts</td>\n",
       "      <td>When a mafia accountant is taken hostage on hi...</td>\n",
       "      <td>113</td>\n",
       "      <td>Mystery|Drama|Thriller|Crime</td>\n",
       "      <td>Miramax Films|Cheyenne Enterprises|Yari Film G...</td>\n",
       "      <td>3/9/2005</td>\n",
       "      <td>6.0</td>\n",
       "      <td>2005</td>\n",
       "    </tr>\n",
       "    <tr>\n",
       "      <th>1847</th>\n",
       "      <td>tt0241303</td>\n",
       "      <td>25000000</td>\n",
       "      <td>152500343</td>\n",
       "      <td>Chocolat</td>\n",
       "      <td>Juliette Binoche|Alfred Molina|Johnny Depp|Car...</td>\n",
       "      <td>Lasse HallstrÃ¶m</td>\n",
       "      <td>...and the world is still indulging!</td>\n",
       "      <td>A fable of emotional liberation and chocolate....</td>\n",
       "      <td>121</td>\n",
       "      <td>Comedy|Drama|Romance</td>\n",
       "      <td>Miramax Films|David Brown Productions|Fat Free</td>\n",
       "      <td>12/14/2000</td>\n",
       "      <td>6.6</td>\n",
       "      <td>2000</td>\n",
       "    </tr>\n",
       "  </tbody>\n",
       "</table>\n",
       "</div>"
      ],
      "text/plain": [
       "        imdb_id    budget    revenue         original_title  \\\n",
       "1441  tt0458352  35000000  326551094  The Devil Wears Prada   \n",
       "1165  tt0289635   6400000    2500000             Young Adam   \n",
       "961   tt0261289  29000000   16930185           Serving Sara   \n",
       "1369  tt0340163  52000000   77944725                Hostage   \n",
       "1847  tt0241303  25000000  152500343               Chocolat   \n",
       "\n",
       "                                                   cast             director  \\\n",
       "1441  Meryl Streep|Anne Hathaway|Emily Blunt|Stanley...        David Frankel   \n",
       "1165  Ewan McGregor|Tilda Swinton|Peter Mullan|Emily...      David Mackenzie   \n",
       "961   Matthew Perry|Elizabeth Hurley|Vincent Pastore...      Reginald Hudlin   \n",
       "1369  Bruce Willis|Kevin Pollak|Jimmy Bennett|Michel...  Florent-Emilio Siri   \n",
       "1847  Juliette Binoche|Alfred Molina|Johnny Depp|Car...     Lasse HallstrÃ¶m   \n",
       "\n",
       "                                                tagline  \\\n",
       "1441  Meet Andy Sachs. A million girls would kill to...   \n",
       "1165        Everyone has a past. Everyone has a secret.   \n",
       "961   The One Thing That Could Bring Them Together I...   \n",
       "1369                                Every Second Counts   \n",
       "1847               ...and the world is still indulging!   \n",
       "\n",
       "                                               overview  runtime  \\\n",
       "1441  The Devil Wears Prada is about a young journal...      109   \n",
       "1165  A young drifter working on a river barge disru...       93   \n",
       "961   Serving Sara is a 2002 romantic comedy film wh...      100   \n",
       "1369  When a mafia accountant is taken hostage on hi...      113   \n",
       "1847  A fable of emotional liberation and chocolate....      121   \n",
       "\n",
       "                            genres  \\\n",
       "1441          Comedy|Drama|Romance   \n",
       "1165  Drama|Thriller|Crime|Romance   \n",
       "961                 Comedy|Romance   \n",
       "1369  Mystery|Drama|Thriller|Crime   \n",
       "1847          Comedy|Drama|Romance   \n",
       "\n",
       "                                   production_companies release_date  \\\n",
       "1441  Twentieth Century Fox Film Corporation|Dune En...    6/30/2006   \n",
       "1165                     Recorded Picture Company (RPC)    9/26/2003   \n",
       "961                                  Paramount Pictures    8/20/2002   \n",
       "1369  Miramax Films|Cheyenne Enterprises|Yari Film G...     3/9/2005   \n",
       "1847     Miramax Films|David Brown Productions|Fat Free   12/14/2000   \n",
       "\n",
       "      vote_average  release_year  \n",
       "1441           7.0          2006  \n",
       "1165           5.9          2003  \n",
       "961            5.1          2002  \n",
       "1369           6.0          2005  \n",
       "1847           6.6          2000  "
      ]
     },
     "execution_count": 2,
     "metadata": {},
     "output_type": "execute_result"
    }
   ],
   "source": [
    "data = pd.read_csv('movie_bd_v5.csv')\n",
    "data.sample(5)"
   ]
  },
  {
   "cell_type": "code",
   "execution_count": 3,
   "metadata": {
    "colab": {},
    "colab_type": "code",
    "id": "CoYUnagMVp-C"
   },
   "outputs": [
    {
     "data": {
      "text/html": [
       "<div>\n",
       "<style scoped>\n",
       "    .dataframe tbody tr th:only-of-type {\n",
       "        vertical-align: middle;\n",
       "    }\n",
       "\n",
       "    .dataframe tbody tr th {\n",
       "        vertical-align: top;\n",
       "    }\n",
       "\n",
       "    .dataframe thead th {\n",
       "        text-align: right;\n",
       "    }\n",
       "</style>\n",
       "<table border=\"1\" class=\"dataframe\">\n",
       "  <thead>\n",
       "    <tr style=\"text-align: right;\">\n",
       "      <th></th>\n",
       "      <th>budget</th>\n",
       "      <th>revenue</th>\n",
       "      <th>runtime</th>\n",
       "      <th>vote_average</th>\n",
       "      <th>release_year</th>\n",
       "    </tr>\n",
       "  </thead>\n",
       "  <tbody>\n",
       "    <tr>\n",
       "      <th>count</th>\n",
       "      <td>1.889000e+03</td>\n",
       "      <td>1.889000e+03</td>\n",
       "      <td>1889.000000</td>\n",
       "      <td>1889.000000</td>\n",
       "      <td>1889.000000</td>\n",
       "    </tr>\n",
       "    <tr>\n",
       "      <th>mean</th>\n",
       "      <td>5.431083e+07</td>\n",
       "      <td>1.553653e+08</td>\n",
       "      <td>109.658549</td>\n",
       "      <td>6.140762</td>\n",
       "      <td>2007.860773</td>\n",
       "    </tr>\n",
       "    <tr>\n",
       "      <th>std</th>\n",
       "      <td>4.858721e+07</td>\n",
       "      <td>2.146698e+08</td>\n",
       "      <td>18.017041</td>\n",
       "      <td>0.764763</td>\n",
       "      <td>4.468841</td>\n",
       "    </tr>\n",
       "    <tr>\n",
       "      <th>min</th>\n",
       "      <td>5.000000e+06</td>\n",
       "      <td>2.033165e+06</td>\n",
       "      <td>63.000000</td>\n",
       "      <td>3.300000</td>\n",
       "      <td>2000.000000</td>\n",
       "    </tr>\n",
       "    <tr>\n",
       "      <th>25%</th>\n",
       "      <td>2.000000e+07</td>\n",
       "      <td>3.456058e+07</td>\n",
       "      <td>97.000000</td>\n",
       "      <td>5.600000</td>\n",
       "      <td>2004.000000</td>\n",
       "    </tr>\n",
       "    <tr>\n",
       "      <th>50%</th>\n",
       "      <td>3.800000e+07</td>\n",
       "      <td>8.361541e+07</td>\n",
       "      <td>107.000000</td>\n",
       "      <td>6.100000</td>\n",
       "      <td>2008.000000</td>\n",
       "    </tr>\n",
       "    <tr>\n",
       "      <th>75%</th>\n",
       "      <td>7.200000e+07</td>\n",
       "      <td>1.782626e+08</td>\n",
       "      <td>120.000000</td>\n",
       "      <td>6.600000</td>\n",
       "      <td>2012.000000</td>\n",
       "    </tr>\n",
       "    <tr>\n",
       "      <th>max</th>\n",
       "      <td>3.800000e+08</td>\n",
       "      <td>2.781506e+09</td>\n",
       "      <td>214.000000</td>\n",
       "      <td>8.100000</td>\n",
       "      <td>2015.000000</td>\n",
       "    </tr>\n",
       "  </tbody>\n",
       "</table>\n",
       "</div>"
      ],
      "text/plain": [
       "             budget       revenue      runtime  vote_average  release_year\n",
       "count  1.889000e+03  1.889000e+03  1889.000000   1889.000000   1889.000000\n",
       "mean   5.431083e+07  1.553653e+08   109.658549      6.140762   2007.860773\n",
       "std    4.858721e+07  2.146698e+08    18.017041      0.764763      4.468841\n",
       "min    5.000000e+06  2.033165e+06    63.000000      3.300000   2000.000000\n",
       "25%    2.000000e+07  3.456058e+07    97.000000      5.600000   2004.000000\n",
       "50%    3.800000e+07  8.361541e+07   107.000000      6.100000   2008.000000\n",
       "75%    7.200000e+07  1.782626e+08   120.000000      6.600000   2012.000000\n",
       "max    3.800000e+08  2.781506e+09   214.000000      8.100000   2015.000000"
      ]
     },
     "metadata": {},
     "output_type": "display_data"
    },
    {
     "name": "stdout",
     "output_type": "stream",
     "text": [
      "<class 'pandas.core.frame.DataFrame'>\n",
      "RangeIndex: 1889 entries, 0 to 1888\n",
      "Data columns (total 14 columns):\n",
      " #   Column                Non-Null Count  Dtype  \n",
      "---  ------                --------------  -----  \n",
      " 0   imdb_id               1889 non-null   object \n",
      " 1   budget                1889 non-null   int64  \n",
      " 2   revenue               1889 non-null   int64  \n",
      " 3   original_title        1889 non-null   object \n",
      " 4   cast                  1889 non-null   object \n",
      " 5   director              1889 non-null   object \n",
      " 6   tagline               1889 non-null   object \n",
      " 7   overview              1889 non-null   object \n",
      " 8   runtime               1889 non-null   int64  \n",
      " 9   genres                1889 non-null   object \n",
      " 10  production_companies  1889 non-null   object \n",
      " 11  release_date          1889 non-null   object \n",
      " 12  vote_average          1889 non-null   float64\n",
      " 13  release_year          1889 non-null   int64  \n",
      "dtypes: float64(1), int64(4), object(9)\n",
      "memory usage: 206.7+ KB\n"
     ]
    },
    {
     "data": {
      "text/plain": [
       "None"
      ]
     },
     "metadata": {},
     "output_type": "display_data"
    },
    {
     "data": {
      "text/plain": [
       "imdb_id                 0\n",
       "budget                  0\n",
       "revenue                 0\n",
       "original_title          0\n",
       "cast                    0\n",
       "director                0\n",
       "tagline                 0\n",
       "overview                0\n",
       "runtime                 0\n",
       "genres                  0\n",
       "production_companies    0\n",
       "release_date            0\n",
       "vote_average            0\n",
       "release_year            0\n",
       "dtype: int64"
      ]
     },
     "metadata": {},
     "output_type": "display_data"
    }
   ],
   "source": [
    "display(data.describe())\n",
    "display(data.info()) # Убеждаемся, что база данных не содержит отсутствующих данных. Размерность таблицы данных : 1889 строк и 14 столбцов.\n",
    "display(data.isnull().sum()) # На всякий случай."
   ]
  },
  {
   "cell_type": "markdown",
   "metadata": {
    "colab_type": "text",
    "id": "DTIt7ezGVp-G"
   },
   "source": [
    "## Предобработка"
   ]
  },
  {
   "cell_type": "code",
   "execution_count": 4,
   "metadata": {
    "colab": {},
    "colab_type": "code",
    "id": "jNb40DwKVp-H"
   },
   "outputs": [],
   "source": [
    "answers = {} # создадим словарь для ответов\n",
    "data2 = data.copy() # у меня \"бзик\" - я трепетно отношусь к сохранности исходных данных\n",
    "data2['profit'] = data2['revenue'] - data2['budget'] # создаём признак \"profit\" (прибыль)\n",
    "\n",
    "def wrd_end(num) :\n",
    "    \"\"\"\n",
    "    Определяет правильное окончание слова 'минута' при числительном.\n",
    "    \"\"\"\n",
    "    num = str(num)\n",
    "    num_exc = '1234'\n",
    "    if 10 < float(num[-2:]) < 20 : return 'минут'\n",
    "    if   num[-1] == num_exc[0] : return 'минуту'\n",
    "    elif num[-1] in num_exc[1:] : return 'минуты'\n",
    "    return 'минут'\n",
    "\n",
    "def film_end(num) :\n",
    "    \"\"\"\n",
    "    Определяет правильное окончание слова 'фильм' при числительном.\n",
    "    \"\"\"\n",
    "    num = str(num)\n",
    "    num_exc = '1'\n",
    "    if 10 < float(num[-2:]) < 20 : return 'фильмов'\n",
    "    if num[-1] == num_exc[0] : return 'фильма'\n",
    "    return 'фильмов'\n",
    "\n",
    "def df_explode(df, col, cnt = False):\n",
    "    \"\"\"\n",
    "    Принимает на входе объект DataFrame df и 'имя' столбца col.\n",
    "    Каждое поле столбца col - список элементов с разделителем '|'.\n",
    "    Если cnt = False (по умолчанию, \"режим value_counts\"):\n",
    "        - возвращает объект series типа value_counts для столбца col.\n",
    "    Если cnt = True (\"режим DataFrame\"):\n",
    "        - возвращает объект DataFrame c \"разъединёнными\" элементами столбца col\n",
    "    \"\"\"\n",
    "    df[col] = df[col].str.split('|')\n",
    "    df = df.explode(col)\n",
    "    if cnt : return df[col].value_counts()\n",
    "    return df\n",
    "\n",
    "def get_date(mmddyyyy):\n",
    "    \"\"\"\n",
    "    Принимает на вход строку даты в формате 'номер месяца/номер дня/год',\n",
    "    например 3/18/2010.\n",
    "    Возвращает строку в формате '18 Март 2010'.\n",
    "    \"\"\"\n",
    "    months = {'12':\"Декабрь\", '1':\"Январь\", '2':\"Февраль\",\n",
    "          '3':\"Март\", '4':\"Апрель\", '5':\"Май\",\n",
    "          '6':\"Июнь\", '7':\"Июль\", '8':\"Август\",\n",
    "          '9':\"Сентябрь\", '10':\"Октябрь\", '11':\"Ноябрь\"\n",
    "    }\n",
    "    m0d1y2 = mmddyyyy.split('/')\n",
    "    return ' '.join([m0d1y2[1], months[m0d1y2[0]], m0d1y2[2]])\n",
    "\n",
    "def permute (lst):\n",
    "    \"\"\"\n",
    "    Вычисляет комбинаторное число размещений A из N элементов по 2:\n",
    "    A = N! / (N - 2)! или A = N * (N - 1)\n",
    "    Вход: актёрский состав данного фильма, имена актёров разделены символом \"|\"\n",
    "    Выход: Список списков. Внутренние списки - имена пар актёров.\n",
    "    \"\"\"\n",
    "    lst = lst.split('|')\n",
    "    abc = []\n",
    "    for name1 in lst:\n",
    "        for name2 in lst:\n",
    "            if name1 == name2 : continue\n",
    "            abc += [[name1, name2]]\n",
    "    return abc\n",
    "#------------------------------------------------------------------------------#"
   ]
  },
  {
   "cell_type": "markdown",
   "metadata": {
    "colab_type": "text",
    "id": "YxZaH-nPVp-L"
   },
   "source": [
    "## 1. У какого фильма из списка самый большой бюджет?"
   ]
  },
  {
   "cell_type": "markdown",
   "metadata": {},
   "source": [
    "ВАРИАНТ 1"
   ]
  },
  {
   "cell_type": "code",
   "execution_count": 5,
   "metadata": {
    "colab": {},
    "colab_type": "code",
    "id": "uVnXAY5RVp-O"
   },
   "outputs": [],
   "source": [
    "answers['1'] = 'Pirates of the Caribbean: On Stranger Tides (tt1298650)'"
   ]
  },
  {
   "cell_type": "code",
   "execution_count": 6,
   "metadata": {},
   "outputs": [
    {
     "data": {
      "text/html": [
       "<div>\n",
       "<style scoped>\n",
       "    .dataframe tbody tr th:only-of-type {\n",
       "        vertical-align: middle;\n",
       "    }\n",
       "\n",
       "    .dataframe tbody tr th {\n",
       "        vertical-align: top;\n",
       "    }\n",
       "\n",
       "    .dataframe thead th {\n",
       "        text-align: right;\n",
       "    }\n",
       "</style>\n",
       "<table border=\"1\" class=\"dataframe\">\n",
       "  <thead>\n",
       "    <tr style=\"text-align: right;\">\n",
       "      <th></th>\n",
       "      <th>original_title</th>\n",
       "      <th>imdb_id</th>\n",
       "      <th>budget</th>\n",
       "    </tr>\n",
       "  </thead>\n",
       "  <tbody>\n",
       "    <tr>\n",
       "      <th>723</th>\n",
       "      <td>Pirates of the Caribbean: On Stranger Tides</td>\n",
       "      <td>tt1298650</td>\n",
       "      <td>380000000</td>\n",
       "    </tr>\n",
       "  </tbody>\n",
       "</table>\n",
       "</div>"
      ],
      "text/plain": [
       "                                  original_title    imdb_id     budget\n",
       "723  Pirates of the Caribbean: On Stranger Tides  tt1298650  380000000"
      ]
     },
     "metadata": {},
     "output_type": "display_data"
    },
    {
     "name": "stdout",
     "output_type": "stream",
     "text": [
      "Самый большой бюджет - у фильма \"Pirates of the Caribbean: On Stranger Tides\" (tt1298650).\n",
      "Бюджет составил 380 млн. долларов.\n"
     ]
    }
   ],
   "source": [
    "cols = ['original_title', 'imdb_id', 'budget'] # Список имён признаков, которые нужны для ответа на вопрос.\n",
    "df = data2[cols].copy() # Копируем соответствующие признаки из базы данных в рабочий датафрейм.\n",
    "df = df[df.budget == df.budget.max()] # Отфильтровываем самую большую среди всех записей величину бюджета.\n",
    "display(df) # На всякий случай смотрим на результат - а вдруг критерию фильтрации соответствуют несколько записей.\n",
    "print(f'Самый большой бюджет - у фильма \"{df.iloc[0].original_title}\" ({df.iloc[0].imdb_id}).')\n",
    "print(f'Бюджет составил {int(round(df.iloc[0].budget/1e6, 0))} млн. долларов.')"
   ]
  },
  {
   "cell_type": "markdown",
   "metadata": {
    "colab_type": "text",
    "id": "K7L3nbRXVp-X"
   },
   "source": [
    "ВАРИАНТ 2"
   ]
  },
  {
   "cell_type": "code",
   "execution_count": 7,
   "metadata": {
    "colab": {},
    "colab_type": "code",
    "id": "OGaoQI7rVp-X"
   },
   "outputs": [
    {
     "name": "stdout",
     "output_type": "stream",
     "text": [
      "Самый большой бюджет - у фильма \"Pirates of the Caribbean: On Stranger Tides\" (tt1298650).\n",
      "Бюджет составил 380 млн. долларов.\n"
     ]
    }
   ],
   "source": [
    "# Основной приём при ответе на 1-ый вопрос - это отыскание записи (мы уже убедились, что она одна)\n",
    "# с наибольшей величиной признака \"budget\". Таким образом, разные варианты решения будут различаться\n",
    "# способами фильтрации.\n",
    "df2 = data2[cols].copy() # Копируем соответствующие признаки из базы данных в рабочий датафрейм.\n",
    "i_max_budget = df2.budget.idxmax() # Определяем индекс записи о самой большой величине признака \"budget\".\n",
    "film_max_budget = df2.loc[i_max_budget].original_title # Название соответствующего фильма.\n",
    "tt_value = df2.loc[i_max_budget].imdb_id # Код фильма.\n",
    "max_budget = int(round(df2.loc[i_max_budget].budget/1e6, 0)) # Величина бюджета в млн. долларов.\n",
    "print(f'Самый большой бюджет - у фильма \"{film_max_budget}\" ({tt_value}).')\n",
    "print(f'Бюджет составил {max_budget} млн. долларов.')"
   ]
  },
  {
   "cell_type": "markdown",
   "metadata": {},
   "source": [
    "Немного порисую:\n",
    "1. Какой фильм оказался самым дорогим в каждом году?\n",
    "2. Как меняется стоимость (величина бюджета) фильма по годам?"
   ]
  },
  {
   "cell_type": "code",
   "execution_count": 8,
   "metadata": {},
   "outputs": [
    {
     "data": {
      "image/png": "[encoded data removed]",
      "text/plain": [
       "<Figure size 1296x432 with 2 Axes>"
      ]
     },
     "metadata": {},
     "output_type": "display_data"
    }
   ],
   "source": [
    "#------------------------------------------------------------------------------#\n",
    "cols = ['release_year', 'original_title', 'budget']\n",
    "df = data2[cols].copy()\n",
    "# Группируем по годам:\n",
    "fyear_max_budget = df.groupby(['release_year'])[['budget']].agg(['idxmax', 'max'])\n",
    "film_name = df.loc[fyear_max_budget.budget['idxmax']].original_title.values # Массив имён фильмов.\n",
    "# Получаем информацию о бюджете фильмов в каждом году:\n",
    "#   для стоимости фильмов по годам построим диаграмму типа \"ящик с усами\"\n",
    "#   для каждого \"ящика года\" нужен список бюджетов фильмов\n",
    "years = sorted(df.release_year.unique())\n",
    "boit = []\n",
    "for year in years:\n",
    "    budg = sorted(df[df.release_year == year].budget.values/1e6)\n",
    "    boit += [budg]\n",
    "# Максимальный размах:\n",
    "range_max = [df[df.release_year == year].budget.max()/1e6 \n",
    "            - df[df.release_year == year].budget.min()/1e6 for year in years]\n",
    "\n",
    "# Рисуем:\n",
    "fig, (ax1, ax2) = plt.subplots(1, 2, figsize = (18, 6))\n",
    "fig.subplots_adjust(wspace = 0.05) # Уменьшаем зазор между графиками.\n",
    "fig.set_facecolor('Lavender') # Раскрашиваем фон.\n",
    "ax1.set_facecolor('AliceBlue')  # -//-\n",
    "ax2.set_facecolor('AliceBlue')  # -//-\n",
    "ax2.yaxis.set_ticks_position('right') # Располагаем метки и подпись оси \"y\"\n",
    "ax2.yaxis.set_label_position('right') # справа от второго графика.\n",
    "\n",
    "# Самые дорогие фильмы:\n",
    "ax1.set_title('Самые дорогие фильмы', fontweight = 'bold',\n",
    "               style='italic', fontsize = 17, fontname='Times New Roman')\n",
    "ax1.set_xlabel('Бюджет, млн. долларов', fontsize = 12)\n",
    "ax1.set_ylabel('Год выпуска', fontsize = 12)\n",
    "# Координаты:\n",
    "x_values = fyear_max_budget.budget['max'].values/1e6\n",
    "y_values = years\n",
    "# Для цветовой карты:\n",
    "vals = (x_values - x_values.min())/(x_values.max() - x_values.min())\n",
    "colors = plt.get_cmap('rainbow')(vals)\n",
    "# Строим горизонтальные полосы (barh):\n",
    "ax1.barh(y_values, x_values, color = colors)\n",
    "# Задаём более корректное отображение годов по оси y:\n",
    "ax1.set_yticks(y_values)\n",
    "# Устанавливаем нужное разбиение по оси х:\n",
    "ax1.set_xticks([x for x in range(0, 425, 25)])\n",
    "ax1.grid(axis = 'x', alpha = 0.5, ls = 'dotted') # Вертикальная сетка.\n",
    "# Размещаем названия фильмов в соответствующей полосе. Для лучшей читаемости\n",
    "#    цвет шрифта зависит от интенсивности цвета заливки полосы.\n",
    "for k, (x, color) in enumerate (zip(x_values, colors)):\n",
    "    y = y_values[k]\n",
    "    r, g, b, _ = color\n",
    "    text_color = 'white' if r * g * b < 0.15 else 'DimGrey'\n",
    "    ax1.text(x / 2, y, film_name[k], ha = 'center', va = 'center',\n",
    "              color = text_color, fontweight = 'bold')\n",
    "#------------------------------------------------------------------------------#\n",
    "# Эволюция стоимости фильмов по годам:\n",
    "ax2.set_title('Эволюция стоимости фильмов по годам', fontweight = 'bold',\n",
    "               style='italic', fontsize = 17, fontname='Times New Roman')\n",
    "ax2.set_ylabel('Бюджет, млн. долларов', fontsize = 12)\n",
    "ax2.set_xlabel('Год выпуска', fontsize = 12)\n",
    "ax2.set_yticks([y for y in range(0, 425, 25)])\n",
    "ax2.set_ylim(0, 400)\n",
    "ax2.grid(axis = 'y', alpha = 0.5, ls = 'dotted')\n",
    "# Координаты:\n",
    "x2_values = years\n",
    "y2_values = range_max\n",
    "# Строим ящики с усами:\n",
    "mean_props = dict(marker='D', markeredgecolor='DarkRed',\n",
    "                  markerfacecolor='DarkRed') # Меняем маркер выборочного среднего\n",
    "ax2.boxplot(boit, positions = x2_values, sym = '.', showmeans = True,\n",
    "           meanprops = mean_props)\n",
    "# Линейчатый график, показывающий эволюцию размаха между максимальным и\n",
    "#     минимальным величинами бюджета фильмов в каждом из годов:\n",
    "ax2.plot(x2_values, y2_values, color = 'b', linewidth = 2, linestyle = 'dotted',\n",
    "         label = 'Размах стоимости (Max - Min)')\n",
    "# Добавляем легенду:\n",
    "ax2.legend(loc='upper left', fontsize = 10, facecolor = 'Lavender',\n",
    "           edgecolor = 'black', shadow = True);"
   ]
  },
  {
   "cell_type": "markdown",
   "metadata": {},
   "source": [
    "Таким образом, наблюдаются следующие особенности эволюции стоимости фильмов по годам:\n",
    "1. Медиана и выборочное среднее меняются сравнительно слабо по годам, выборочное среднее несколько отклоняется в сторону большей стоимости.\n",
    "2. Заметно растёт размах, что приводит к появлению \"хвоста\" в распределении стоимости фильмов - оно становится всё более асимметричным.\n",
    "Появляется значительное количество \"выбросов\" за пределами Q3+1.5*IQR. Верхняя часть \"ящика\" \n",
    "становится заметно больше нижней части, а выборочное среднее всё более смещается от медианы\n",
    "вверх - из-за наличия выбросов."
   ]
  },
  {
   "cell_type": "markdown",
   "metadata": {
    "colab_type": "text",
    "id": "FNRbbI3vVp-c"
   },
   "source": [
    "## 2. Какой из фильмов самый длительный (в минутах)?\n",
    "Вариант 1."
   ]
  },
  {
   "cell_type": "code",
   "execution_count": 9,
   "metadata": {
    "colab": {},
    "colab_type": "code",
    "id": "vHAoEXNTVp-d"
   },
   "outputs": [],
   "source": [
    "answers['2'] = 'Gods and Generals (tt0279111)'"
   ]
  },
  {
   "cell_type": "code",
   "execution_count": 10,
   "metadata": {
    "colab": {},
    "colab_type": "code",
    "id": "ot-VX2XrVp-g"
   },
   "outputs": [
    {
     "data": {
      "text/html": [
       "<div>\n",
       "<style scoped>\n",
       "    .dataframe tbody tr th:only-of-type {\n",
       "        vertical-align: middle;\n",
       "    }\n",
       "\n",
       "    .dataframe tbody tr th {\n",
       "        vertical-align: top;\n",
       "    }\n",
       "\n",
       "    .dataframe thead th {\n",
       "        text-align: right;\n",
       "    }\n",
       "</style>\n",
       "<table border=\"1\" class=\"dataframe\">\n",
       "  <thead>\n",
       "    <tr style=\"text-align: right;\">\n",
       "      <th></th>\n",
       "      <th>original_title</th>\n",
       "      <th>imdb_id</th>\n",
       "      <th>runtime</th>\n",
       "    </tr>\n",
       "  </thead>\n",
       "  <tbody>\n",
       "    <tr>\n",
       "      <th>1157</th>\n",
       "      <td>Gods and Generals</td>\n",
       "      <td>tt0279111</td>\n",
       "      <td>214</td>\n",
       "    </tr>\n",
       "  </tbody>\n",
       "</table>\n",
       "</div>"
      ],
      "text/plain": [
       "         original_title    imdb_id  runtime\n",
       "1157  Gods and Generals  tt0279111      214"
      ]
     },
     "metadata": {},
     "output_type": "display_data"
    },
    {
     "name": "stdout",
     "output_type": "stream",
     "text": [
      "Самым длительным является фильм \"Gods and Generals\" (tt0279111).\n",
      "Он длится 214 минут.\n"
     ]
    }
   ],
   "source": [
    "#------------------------------------------------------------------------------#\n",
    "cols = ['original_title', 'imdb_id', 'runtime']\n",
    "df = data2[cols].copy()\n",
    "# Проверяем, одна ли запись удовлетворяет критерию фильтрации:\n",
    "df_max_runtime = df[df.runtime == df.runtime.max()][cols]\n",
    "display(df_max_runtime)\n",
    "# Запись одна, оформляем результат в текстовой форме:\n",
    "name, id_val, rtime = df_max_runtime.iloc[0]\n",
    "print(f'Самым длительным является фильм \"{name}\" ({id_val}).')\n",
    "print(f'Он длится {rtime} {wrd_end(rtime)}.')\n",
    "# Рисовать не буду, хотя очень хочется..."
   ]
  },
  {
   "cell_type": "markdown",
   "metadata": {},
   "source": [
    "Вариант 2."
   ]
  },
  {
   "cell_type": "code",
   "execution_count": 11,
   "metadata": {},
   "outputs": [
    {
     "name": "stdout",
     "output_type": "stream",
     "text": [
      "Самым длительным является фильм \"Gods and Generals\" (tt0279111).\n",
      "Он длится 214 минут.\n"
     ]
    }
   ],
   "source": [
    "imax = df['runtime'].idxmax() # idxmax() определяет в датафрейме индекс максимума\n",
    "name, id_val, rtime = df.loc[imax, cols]\n",
    "print(f'Самым длительным является фильм \"{name}\" ({id_val}).')\n",
    "print(f'Он длится {rtime} {wrd_end(rtime)}.')"
   ]
  },
  {
   "cell_type": "markdown",
   "metadata": {
    "colab_type": "text",
    "id": "bapLlpW8Vp-k"
   },
   "source": [
    "## 3. Какой из фильмов самый короткий (в минутах)?\n",
    "Вариант 1."
   ]
  },
  {
   "cell_type": "code",
   "execution_count": 12,
   "metadata": {},
   "outputs": [],
   "source": [
    "answers['3'] = 'Winnie the Pooh (tt1449283)'"
   ]
  },
  {
   "cell_type": "code",
   "execution_count": 13,
   "metadata": {
    "colab": {},
    "colab_type": "code",
    "id": "YBxaSHuAVp-l"
   },
   "outputs": [
    {
     "data": {
      "text/html": [
       "<div>\n",
       "<style scoped>\n",
       "    .dataframe tbody tr th:only-of-type {\n",
       "        vertical-align: middle;\n",
       "    }\n",
       "\n",
       "    .dataframe tbody tr th {\n",
       "        vertical-align: top;\n",
       "    }\n",
       "\n",
       "    .dataframe thead th {\n",
       "        text-align: right;\n",
       "    }\n",
       "</style>\n",
       "<table border=\"1\" class=\"dataframe\">\n",
       "  <thead>\n",
       "    <tr style=\"text-align: right;\">\n",
       "      <th></th>\n",
       "      <th>original_title</th>\n",
       "      <th>imdb_id</th>\n",
       "      <th>runtime</th>\n",
       "    </tr>\n",
       "  </thead>\n",
       "  <tbody>\n",
       "    <tr>\n",
       "      <th>768</th>\n",
       "      <td>Winnie the Pooh</td>\n",
       "      <td>tt1449283</td>\n",
       "      <td>63</td>\n",
       "    </tr>\n",
       "  </tbody>\n",
       "</table>\n",
       "</div>"
      ],
      "text/plain": [
       "      original_title    imdb_id  runtime\n",
       "768  Winnie the Pooh  tt1449283       63"
      ]
     },
     "metadata": {},
     "output_type": "display_data"
    },
    {
     "name": "stdout",
     "output_type": "stream",
     "text": [
      "Самым коротким является фильм \"Winnie the Pooh\" (tt1449283).\n",
      "Он длится 63 минуты.\n"
     ]
    }
   ],
   "source": [
    "#------------------------------------------------------------------------------#\n",
    "cols = ['original_title', 'imdb_id', 'runtime']\n",
    "df = data2[cols].copy()\n",
    "# Проверяем, одна ли запись удовлетворяет критерию фильтрации:\n",
    "df_min_runtime = df[df.runtime == df.runtime.min()][cols]\n",
    "display(df_min_runtime)\n",
    "# Запись одна, оформляем результат в текстовой форме:\n",
    "name, id_val, rtime = df_min_runtime.iloc[0]\n",
    "print(f'Самым коротким является фильм \"{name}\" ({id_val}).')\n",
    "print(f'Он длится {rtime} {wrd_end(rtime)}.')"
   ]
  },
  {
   "cell_type": "markdown",
   "metadata": {},
   "source": [
    "Вариант 2."
   ]
  },
  {
   "cell_type": "code",
   "execution_count": 14,
   "metadata": {},
   "outputs": [
    {
     "name": "stdout",
     "output_type": "stream",
     "text": [
      "Самым коротким является фильм \"Winnie the Pooh\" (tt1449283).\n",
      "Он длится 63 минуты.\n"
     ]
    }
   ],
   "source": [
    "imin = df['runtime'].idxmin() # idxmin() определяет в датафрейме индекс минимума\n",
    "name, id_val, rtime = df.loc[imin, cols]\n",
    "print(f'Самым коротким является фильм \"{name}\" ({id_val}).')\n",
    "print(f'Он длится {rtime} {wrd_end(rtime)}.')"
   ]
  },
  {
   "cell_type": "markdown",
   "metadata": {
    "colab_type": "text",
    "id": "TfQbxbfNVp-p"
   },
   "source": [
    "## 4. Какова средняя длительность фильмов?\n",
    "ВАРИАНТ 1."
   ]
  },
  {
   "cell_type": "code",
   "execution_count": 15,
   "metadata": {},
   "outputs": [],
   "source": [
    "answers['4'] = '110'"
   ]
  },
  {
   "cell_type": "code",
   "execution_count": 16,
   "metadata": {
    "colab": {},
    "colab_type": "code",
    "id": "5K6dKZYVVp-q"
   },
   "outputs": [
    {
     "name": "stdout",
     "output_type": "stream",
     "text": [
      "Средняя длительность фильмов составляет 110 минут.\n"
     ]
    }
   ],
   "source": [
    "#------------------------------------------------------------------------------#\n",
    "# Просто воспользуемся общей информацией из describe()\n",
    "df = data2.describe().copy()\n",
    "runtime_mean = int(round(df.loc['mean', ['runtime']], 0))\n",
    "print(f'Средняя длительность фильмов составляет {runtime_mean} {wrd_end(runtime_mean)}.')"
   ]
  },
  {
   "cell_type": "markdown",
   "metadata": {},
   "source": [
    "ВАРИАНТ 2."
   ]
  },
  {
   "cell_type": "code",
   "execution_count": 17,
   "metadata": {},
   "outputs": [
    {
     "name": "stdout",
     "output_type": "stream",
     "text": [
      "Средняя длительность фильмов составляет 110 минут.\n"
     ]
    }
   ],
   "source": [
    "#------------------------------------------------------------------------------#\n",
    "# Вычислим среднее по столбцу 'runtime' исходной базы данных.\n",
    "cols = ['runtime']\n",
    "df = data2[cols].copy()\n",
    "runtime_mean = int(round(df.runtime.mean(), 0))\n",
    "print(f'Средняя длительность фильмов составляет {runtime_mean} {wrd_end(runtime_mean)}.')"
   ]
  },
  {
   "cell_type": "markdown",
   "metadata": {
    "colab_type": "text",
    "id": "r5TvbnT_Vp-u"
   },
   "source": [
    "## 5. Каково медианное значение длительности фильмов?"
   ]
  },
  {
   "cell_type": "code",
   "execution_count": 18,
   "metadata": {},
   "outputs": [],
   "source": [
    "answers['5'] = '107'"
   ]
  },
  {
   "cell_type": "code",
   "execution_count": 19,
   "metadata": {
    "colab": {},
    "colab_type": "code",
    "id": "iBROplKnVp-v"
   },
   "outputs": [
    {
     "name": "stdout",
     "output_type": "stream",
     "text": [
      "Медианное значение длительности фильмов составляет 107 минут.\n"
     ]
    }
   ],
   "source": [
    "#------------------------------------------------------------------------------#\n",
    "df = data2.describe().copy()\n",
    "runtime_median = int(round(df.loc['50%'].runtime, 0))\n",
    "print(f'Медианное значение длительности фильмов составляет {runtime_median} \\\n",
    "{wrd_end(runtime_median)}.')"
   ]
  },
  {
   "cell_type": "markdown",
   "metadata": {
    "colab_type": "text",
    "id": "39P-deDSVp-y"
   },
   "source": [
    "## 6. Какой самый прибыльный фильм?\n",
    "Вариант 1."
   ]
  },
  {
   "cell_type": "code",
   "execution_count": 20,
   "metadata": {
    "colab": {},
    "colab_type": "code",
    "id": "UYZh4T9WVp-y"
   },
   "outputs": [],
   "source": [
    "answers['6'] = 'Avatar (tt0499549)'"
   ]
  },
  {
   "cell_type": "code",
   "execution_count": 21,
   "metadata": {},
   "outputs": [
    {
     "data": {
      "text/html": [
       "<div>\n",
       "<style scoped>\n",
       "    .dataframe tbody tr th:only-of-type {\n",
       "        vertical-align: middle;\n",
       "    }\n",
       "\n",
       "    .dataframe tbody tr th {\n",
       "        vertical-align: top;\n",
       "    }\n",
       "\n",
       "    .dataframe thead th {\n",
       "        text-align: right;\n",
       "    }\n",
       "</style>\n",
       "<table border=\"1\" class=\"dataframe\">\n",
       "  <thead>\n",
       "    <tr style=\"text-align: right;\">\n",
       "      <th></th>\n",
       "      <th>original_title</th>\n",
       "      <th>imdb_id</th>\n",
       "      <th>profit</th>\n",
       "    </tr>\n",
       "  </thead>\n",
       "  <tbody>\n",
       "    <tr>\n",
       "      <th>239</th>\n",
       "      <td>Avatar</td>\n",
       "      <td>tt0499549</td>\n",
       "      <td>2544505847</td>\n",
       "    </tr>\n",
       "  </tbody>\n",
       "</table>\n",
       "</div>"
      ],
      "text/plain": [
       "    original_title    imdb_id      profit\n",
       "239         Avatar  tt0499549  2544505847"
      ]
     },
     "metadata": {},
     "output_type": "display_data"
    },
    {
     "name": "stdout",
     "output_type": "stream",
     "text": [
      "Самый прибыльный фильм называется \"Avatar\" (tt0499549).\n",
      "Прибыль составила 2545 млн. долларов.\n"
     ]
    }
   ],
   "source": [
    "#------------------------------------------------------------------------------#\n",
    "cols = ['original_title', 'imdb_id', 'profit']\n",
    "df = data2[cols].copy()\n",
    "# Проверяем, одна ли запись удовлетворяет критерию фильтрации:\n",
    "df_max_profit = df[df.profit == df.profit.max()][cols]\n",
    "display(df_max_profit)\n",
    "# Запись одна, оформляем результат в текстовой форме:\n",
    "name, id_val, profit = df_max_profit.iloc[0]\n",
    "print(f'Самый прибыльный фильм называется \"{name}\" ({id_val}).')\n",
    "print(f'Прибыль составила {int(round(profit/1000000, 0))} млн. долларов.')"
   ]
  },
  {
   "cell_type": "markdown",
   "metadata": {},
   "source": [
    "Вариант 2."
   ]
  },
  {
   "cell_type": "code",
   "execution_count": 22,
   "metadata": {},
   "outputs": [
    {
     "name": "stdout",
     "output_type": "stream",
     "text": [
      "Самый прибыльный фильм называется \"Avatar\" (tt0499549).\n",
      "Прибыль составила 2545 млн. долларов.\n"
     ]
    }
   ],
   "source": [
    "imax = df['profit'].idxmax() # idxmax() определяет в датафрейме индекс максимума\n",
    "name, id_val, profit = df.loc[imax, cols]\n",
    "print(f'Самый прибыльный фильм называется \"{name}\" ({id_val}).')\n",
    "print(f'Прибыль составила {int(round(profit/1000000, 0))} млн. долларов.')"
   ]
  },
  {
   "cell_type": "markdown",
   "metadata": {
    "colab_type": "text",
    "id": "M99JmIX4Vp-2"
   },
   "source": [
    "## 7. Какой фильм самый убыточный?\n",
    "Вариант 1."
   ]
  },
  {
   "cell_type": "code",
   "execution_count": 23,
   "metadata": {},
   "outputs": [],
   "source": [
    "answers['7'] = 'The Lone Ranger (tt1210819)'"
   ]
  },
  {
   "cell_type": "code",
   "execution_count": 24,
   "metadata": {},
   "outputs": [
    {
     "data": {
      "text/html": [
       "<div>\n",
       "<style scoped>\n",
       "    .dataframe tbody tr th:only-of-type {\n",
       "        vertical-align: middle;\n",
       "    }\n",
       "\n",
       "    .dataframe tbody tr th {\n",
       "        vertical-align: top;\n",
       "    }\n",
       "\n",
       "    .dataframe thead th {\n",
       "        text-align: right;\n",
       "    }\n",
       "</style>\n",
       "<table border=\"1\" class=\"dataframe\">\n",
       "  <thead>\n",
       "    <tr style=\"text-align: right;\">\n",
       "      <th></th>\n",
       "      <th>original_title</th>\n",
       "      <th>imdb_id</th>\n",
       "      <th>profit</th>\n",
       "    </tr>\n",
       "  </thead>\n",
       "  <tbody>\n",
       "    <tr>\n",
       "      <th>1245</th>\n",
       "      <td>The Lone Ranger</td>\n",
       "      <td>tt1210819</td>\n",
       "      <td>-165710090</td>\n",
       "    </tr>\n",
       "  </tbody>\n",
       "</table>\n",
       "</div>"
      ],
      "text/plain": [
       "       original_title    imdb_id     profit\n",
       "1245  The Lone Ranger  tt1210819 -165710090"
      ]
     },
     "metadata": {},
     "output_type": "display_data"
    },
    {
     "name": "stdout",
     "output_type": "stream",
     "text": [
      "Самый убыточный фильм называется \"The Lone Ranger\" (tt1210819).\n",
      "Прибыль составила -166 млн. долларов.\n"
     ]
    }
   ],
   "source": [
    "#------------------------------------------------------------------------------#\n",
    "cols = ['original_title', 'imdb_id', 'profit']\n",
    "df = data2[cols].copy()\n",
    "# Проверяем, одна ли запись удовлетворяет критерию фильтрации:\n",
    "df_min_profit = df[df.profit == df.profit.min()][cols]\n",
    "display(df_min_profit)\n",
    "# Запись одна, оформляем результат в текстовой форме:\n",
    "name, id_val, profit = df_min_profit.iloc[0]\n",
    "print(f'Самый убыточный фильм называется \"{name}\" ({id_val}).')\n",
    "print(f'Прибыль составила {int(round(profit/1e6, 0))} млн. долларов.')"
   ]
  },
  {
   "cell_type": "markdown",
   "metadata": {},
   "source": [
    "Вариант 2."
   ]
  },
  {
   "cell_type": "code",
   "execution_count": 25,
   "metadata": {},
   "outputs": [
    {
     "name": "stdout",
     "output_type": "stream",
     "text": [
      "Самый убыточный фильм называется \"The Lone Ranger\" (tt1210819).\n",
      "Прибыль составила -166 млн. долларов.\n"
     ]
    }
   ],
   "source": [
    "imin = df['profit'].idxmin() # idxmin() определяет в датафрейме индекс минимума\n",
    "name, id_val, profit = df.loc[imin, cols]\n",
    "print(f'Самый убыточный фильм называется \"{name}\" ({id_val}).')\n",
    "print(f'Прибыль составила {int(round(profit/1000000, 0))} млн. долларов.')"
   ]
  },
  {
   "cell_type": "markdown",
   "metadata": {
    "colab_type": "text",
    "id": "wEOM5ERVVp-6"
   },
   "source": [
    "## 8. У скольких фильмов из датасета объем сборов оказался выше бюджета?\n",
    "Вариант 1."
   ]
  },
  {
   "cell_type": "code",
   "execution_count": 26,
   "metadata": {},
   "outputs": [],
   "source": [
    "answers['8'] = '1478'"
   ]
  },
  {
   "cell_type": "code",
   "execution_count": 27,
   "metadata": {
    "colab": {},
    "colab_type": "code",
    "id": "y00_7HD6Vp-7"
   },
   "outputs": [
    {
     "name": "stdout",
     "output_type": "stream",
     "text": [
      "Объем сборов оказался выше бюджета у 1478 фильмов.\n"
     ]
    }
   ],
   "source": [
    "#------------------------------------------------------------------------------#\n",
    "cols = ['profit']\n",
    "df = data2[cols].copy()\n",
    "# \"Объём сборов выше бюджета\" означает положительную прибыль : profit > 0\n",
    "num_plus = df[df.profit > 0].shape[0]\n",
    "print(f'Объем сборов оказался выше бюджета у {num_plus} {film_end(num_plus)}.')"
   ]
  },
  {
   "cell_type": "markdown",
   "metadata": {},
   "source": [
    "Вариант 2."
   ]
  },
  {
   "cell_type": "code",
   "execution_count": 28,
   "metadata": {},
   "outputs": [
    {
     "name": "stdout",
     "output_type": "stream",
     "text": [
      "Объем сборов оказался выше бюджета у 1478 фильмов.\n"
     ]
    }
   ],
   "source": [
    "plus_n = df.query('profit > 0').profit.count() # Используем функцию query\n",
    "print(f'Объем сборов оказался выше бюджета у {plus_n} {film_end(plus_n)}.')"
   ]
  },
  {
   "cell_type": "markdown",
   "metadata": {
    "colab_type": "text",
    "id": "xhpspA9KVp_A"
   },
   "source": [
    "## 9. Какой фильм оказался самым кассовым в 2008 году?"
   ]
  },
  {
   "cell_type": "code",
   "execution_count": 29,
   "metadata": {
    "colab": {},
    "colab_type": "code",
    "id": "MoUyQr9RVp_B"
   },
   "outputs": [],
   "source": [
    "answers['9'] = 'The Dark Knight (tt0468569)'"
   ]
  },
  {
   "cell_type": "code",
   "execution_count": 30,
   "metadata": {},
   "outputs": [
    {
     "data": {
      "text/html": [
       "<div>\n",
       "<style scoped>\n",
       "    .dataframe tbody tr th:only-of-type {\n",
       "        vertical-align: middle;\n",
       "    }\n",
       "\n",
       "    .dataframe tbody tr th {\n",
       "        vertical-align: top;\n",
       "    }\n",
       "\n",
       "    .dataframe thead th {\n",
       "        text-align: right;\n",
       "    }\n",
       "</style>\n",
       "<table border=\"1\" class=\"dataframe\">\n",
       "  <thead>\n",
       "    <tr style=\"text-align: right;\">\n",
       "      <th></th>\n",
       "      <th>original_title</th>\n",
       "      <th>imdb_id</th>\n",
       "      <th>revenue</th>\n",
       "    </tr>\n",
       "    <tr>\n",
       "      <th>release_year</th>\n",
       "      <th></th>\n",
       "      <th></th>\n",
       "      <th></th>\n",
       "    </tr>\n",
       "  </thead>\n",
       "  <tbody>\n",
       "    <tr>\n",
       "      <th>2000</th>\n",
       "      <td>Mission: Impossible II</td>\n",
       "      <td>tt0120755</td>\n",
       "      <td>546388105</td>\n",
       "    </tr>\n",
       "    <tr>\n",
       "      <th>2001</th>\n",
       "      <td>Harry Potter and the Philosopher's Stone</td>\n",
       "      <td>tt0241527</td>\n",
       "      <td>976475550</td>\n",
       "    </tr>\n",
       "    <tr>\n",
       "      <th>2002</th>\n",
       "      <td>The Lord of the Rings: The Two Towers</td>\n",
       "      <td>tt0167261</td>\n",
       "      <td>926287400</td>\n",
       "    </tr>\n",
       "    <tr>\n",
       "      <th>2003</th>\n",
       "      <td>The Lord of the Rings: The Return of the King</td>\n",
       "      <td>tt0167260</td>\n",
       "      <td>1118888979</td>\n",
       "    </tr>\n",
       "    <tr>\n",
       "      <th>2004</th>\n",
       "      <td>Shrek 2</td>\n",
       "      <td>tt0298148</td>\n",
       "      <td>919838758</td>\n",
       "    </tr>\n",
       "    <tr>\n",
       "      <th>2005</th>\n",
       "      <td>Harry Potter and the Goblet of Fire</td>\n",
       "      <td>tt0330373</td>\n",
       "      <td>895921036</td>\n",
       "    </tr>\n",
       "    <tr>\n",
       "      <th>2006</th>\n",
       "      <td>Pirates of the Caribbean: Dead Man's Chest</td>\n",
       "      <td>tt0383574</td>\n",
       "      <td>1065659812</td>\n",
       "    </tr>\n",
       "    <tr>\n",
       "      <th>2007</th>\n",
       "      <td>Pirates of the Caribbean: At World's End</td>\n",
       "      <td>tt0449088</td>\n",
       "      <td>961000000</td>\n",
       "    </tr>\n",
       "    <tr>\n",
       "      <th>2008</th>\n",
       "      <td>The Dark Knight</td>\n",
       "      <td>tt0468569</td>\n",
       "      <td>1001921825</td>\n",
       "    </tr>\n",
       "    <tr>\n",
       "      <th>2009</th>\n",
       "      <td>Avatar</td>\n",
       "      <td>tt0499549</td>\n",
       "      <td>2781505847</td>\n",
       "    </tr>\n",
       "    <tr>\n",
       "      <th>2010</th>\n",
       "      <td>Toy Story 3</td>\n",
       "      <td>tt0435761</td>\n",
       "      <td>1063171911</td>\n",
       "    </tr>\n",
       "    <tr>\n",
       "      <th>2011</th>\n",
       "      <td>Harry Potter and the Deathly Hallows: Part 2</td>\n",
       "      <td>tt1201607</td>\n",
       "      <td>1327817822</td>\n",
       "    </tr>\n",
       "    <tr>\n",
       "      <th>2012</th>\n",
       "      <td>The Avengers</td>\n",
       "      <td>tt0848228</td>\n",
       "      <td>1519557910</td>\n",
       "    </tr>\n",
       "    <tr>\n",
       "      <th>2013</th>\n",
       "      <td>Frozen</td>\n",
       "      <td>tt2294629</td>\n",
       "      <td>1274219009</td>\n",
       "    </tr>\n",
       "    <tr>\n",
       "      <th>2014</th>\n",
       "      <td>The Hobbit: The Battle of the Five Armies</td>\n",
       "      <td>tt2310332</td>\n",
       "      <td>955119788</td>\n",
       "    </tr>\n",
       "    <tr>\n",
       "      <th>2015</th>\n",
       "      <td>Star Wars: The Force Awakens</td>\n",
       "      <td>tt2488496</td>\n",
       "      <td>2068178225</td>\n",
       "    </tr>\n",
       "  </tbody>\n",
       "</table>\n",
       "</div>"
      ],
      "text/plain": [
       "                                             original_title    imdb_id  \\\n",
       "release_year                                                             \n",
       "2000                                 Mission: Impossible II  tt0120755   \n",
       "2001               Harry Potter and the Philosopher's Stone  tt0241527   \n",
       "2002                  The Lord of the Rings: The Two Towers  tt0167261   \n",
       "2003          The Lord of the Rings: The Return of the King  tt0167260   \n",
       "2004                                                Shrek 2  tt0298148   \n",
       "2005                    Harry Potter and the Goblet of Fire  tt0330373   \n",
       "2006             Pirates of the Caribbean: Dead Man's Chest  tt0383574   \n",
       "2007               Pirates of the Caribbean: At World's End  tt0449088   \n",
       "2008                                        The Dark Knight  tt0468569   \n",
       "2009                                                 Avatar  tt0499549   \n",
       "2010                                            Toy Story 3  tt0435761   \n",
       "2011           Harry Potter and the Deathly Hallows: Part 2  tt1201607   \n",
       "2012                                           The Avengers  tt0848228   \n",
       "2013                                                 Frozen  tt2294629   \n",
       "2014              The Hobbit: The Battle of the Five Armies  tt2310332   \n",
       "2015                           Star Wars: The Force Awakens  tt2488496   \n",
       "\n",
       "                 revenue  \n",
       "release_year              \n",
       "2000           546388105  \n",
       "2001           976475550  \n",
       "2002           926287400  \n",
       "2003          1118888979  \n",
       "2004           919838758  \n",
       "2005           895921036  \n",
       "2006          1065659812  \n",
       "2007           961000000  \n",
       "2008          1001921825  \n",
       "2009          2781505847  \n",
       "2010          1063171911  \n",
       "2011          1327817822  \n",
       "2012          1519557910  \n",
       "2013          1274219009  \n",
       "2014           955119788  \n",
       "2015          2068178225  "
      ]
     },
     "metadata": {},
     "output_type": "display_data"
    },
    {
     "name": "stdout",
     "output_type": "stream",
     "text": [
      "Фильм \"The Dark Knight\" (tt0468569) оказался самым кассовым в 2008-ом году.\n",
      "Кассовый сбор составил 1002 млн. долларов.\n"
     ]
    }
   ],
   "source": [
    "#------------------------------------------------------------------------------#\n",
    "cols = ['original_title', 'imdb_id', 'revenue', 'release_year']\n",
    "df = data2[cols].copy()\n",
    "# Формируем датафрейм - самые кассовые (max revenue) фильмы по годам :\n",
    "df = df.loc[df.groupby('release_year').revenue.idxmax()][cols]\n",
    "# Чуть украшаем форму представления:\n",
    "df.index = df.release_year\n",
    "del df['release_year']\n",
    "display(df)\n",
    "# Отвечаем на вопрос 9:\n",
    "name, id_val, money = df.loc[2008]\n",
    "print(f'Фильм \"{name}\" ({id_val}) оказался самым кассовым в 2008-ом году.')\n",
    "print(f'Кассовый сбор составил {int(round(money/1e6, 0))} млн. долларов.')"
   ]
  },
  {
   "cell_type": "markdown",
   "metadata": {
    "colab_type": "text",
    "id": "Zi4hDKidVp_F"
   },
   "source": [
    "## 10. Самый убыточный фильм за период с 2012 по 2014 г. (включительно)?\n",
    "Вариант 1."
   ]
  },
  {
   "cell_type": "code",
   "execution_count": 31,
   "metadata": {
    "colab": {},
    "colab_type": "code",
    "id": "XqyRmufJVp_F"
   },
   "outputs": [],
   "source": [
    "answers['10'] = 'The Lone Ranger (tt1210819)'"
   ]
  },
  {
   "cell_type": "code",
   "execution_count": 32,
   "metadata": {},
   "outputs": [
    {
     "data": {
      "text/html": [
       "<div>\n",
       "<style scoped>\n",
       "    .dataframe tbody tr th:only-of-type {\n",
       "        vertical-align: middle;\n",
       "    }\n",
       "\n",
       "    .dataframe tbody tr th {\n",
       "        vertical-align: top;\n",
       "    }\n",
       "\n",
       "    .dataframe thead th {\n",
       "        text-align: right;\n",
       "    }\n",
       "</style>\n",
       "<table border=\"1\" class=\"dataframe\">\n",
       "  <thead>\n",
       "    <tr style=\"text-align: right;\">\n",
       "      <th></th>\n",
       "      <th>release_year</th>\n",
       "      <th>original_title</th>\n",
       "      <th>imdb_id</th>\n",
       "      <th>profit</th>\n",
       "    </tr>\n",
       "  </thead>\n",
       "  <tbody>\n",
       "    <tr>\n",
       "      <th>1245</th>\n",
       "      <td>2013</td>\n",
       "      <td>The Lone Ranger</td>\n",
       "      <td>tt1210819</td>\n",
       "      <td>-165710090</td>\n",
       "    </tr>\n",
       "  </tbody>\n",
       "</table>\n",
       "</div>"
      ],
      "text/plain": [
       "      release_year   original_title    imdb_id     profit\n",
       "1245          2013  The Lone Ranger  tt1210819 -165710090"
      ]
     },
     "metadata": {},
     "output_type": "display_data"
    },
    {
     "name": "stdout",
     "output_type": "stream",
     "text": [
      "Самый убыточный за период 2012-2014 фильм называется \"The Lone Ranger\" (tt1210819).\n",
      "Убыток составил 165.7 млн. долларов.\n"
     ]
    }
   ],
   "source": [
    "#------------------------------------------------------------------------------#\n",
    "cols = ['release_year', 'original_title', 'imdb_id', 'profit']\n",
    "years = [2012, 2013, 2014]\n",
    "df = data2[data.release_year.isin(years)][cols].copy()\n",
    "# Проверяем, одна ли запись удовлетворяет критерию фильтрации:\n",
    "df_min_profit = df[df.profit == df.profit.min()][cols]\n",
    "display(df_min_profit)\n",
    "# Запись одна, оформляем результат в текстовой форме:\n",
    "_, name, id_val, profit = df_min_profit.iloc[0]\n",
    "print(f'Самый убыточный за период 2012-2014 фильм называется \"{name}\" ({id_val}).')\n",
    "print(f'Убыток составил {abs(round(profit/1e6, 1))} млн. долларов.')"
   ]
  },
  {
   "cell_type": "markdown",
   "metadata": {},
   "source": [
    "Вариант 2."
   ]
  },
  {
   "cell_type": "code",
   "execution_count": 33,
   "metadata": {},
   "outputs": [
    {
     "name": "stdout",
     "output_type": "stream",
     "text": [
      "Самый убыточный за период 2012-2014 фильм называется \"The Lone Ranger\" (tt1210819).\n",
      "Убыток составил 165.7 млн. долларов.\n"
     ]
    }
   ],
   "source": [
    "imin = df['profit'].idxmin() # idxmin() определяет в датафрейме индекс минимума\n",
    "_, name2, id_val2, profit2 = df.loc[imin, cols]\n",
    "print(f'Самый убыточный за период 2012-2014 фильм называется \"{name2}\" ({id_val2}).')\n",
    "print(f'Убыток составил {abs(round(profit2/1e6, 1))} млн. долларов.')"
   ]
  },
  {
   "cell_type": "markdown",
   "metadata": {
    "colab_type": "text",
    "id": "EA7Sa9dkVp_I"
   },
   "source": [
    "## 11. Какого жанра фильмов больше всего?\n",
    "Вариант 1. С помощью пользовательской функции."
   ]
  },
  {
   "cell_type": "code",
   "execution_count": 34,
   "metadata": {
    "colab": {},
    "colab_type": "code",
    "id": "zsJAwJ8QVp_J"
   },
   "outputs": [],
   "source": [
    "answers['11'] = 'Drama'"
   ]
  },
  {
   "cell_type": "code",
   "execution_count": 35,
   "metadata": {},
   "outputs": [
    {
     "name": "stdout",
     "output_type": "stream",
     "text": [
      "Больше всего фильмов - в жанре \"Drama\".\n"
     ]
    }
   ],
   "source": [
    "#------------------------------------------------------------------------------#\n",
    "df = data2.copy()\n",
    "# Применяем пользовательскую функцию \"df_explode\" (в режиме value_counts):\n",
    "genre_pop = df_explode(df, 'genres', cnt = True).idxmax()\n",
    "print(f'Больше всего фильмов - в жанре \"{genre_pop}\".')"
   ]
  },
  {
   "cell_type": "markdown",
   "metadata": {
    "colab_type": "text",
    "id": "Ax6g2C8SVp_M"
   },
   "source": [
    "Вариант 2. Суммарный список через \"суммирование\" списков."
   ]
  },
  {
   "cell_type": "code",
   "execution_count": 36,
   "metadata": {
    "colab": {},
    "colab_type": "code",
    "id": "otO3SbrSVp_N"
   },
   "outputs": [
    {
     "name": "stdout",
     "output_type": "stream",
     "text": [
      "Больше всего фильмов - в жанре \"Drama\".\n"
     ]
    }
   ],
   "source": [
    "df = data2.copy()\n",
    "genre_pop = pd.Series(df.genres.str.split('|').sum()).value_counts().idxmax()\n",
    "print(f'Больше всего фильмов - в жанре \"{genre_pop}\".')"
   ]
  },
  {
   "cell_type": "markdown",
   "metadata": {
    "colab_type": "text",
    "id": "T9_bPWpkVp_Q"
   },
   "source": [
    "## 12. Фильмы какого жанра чаще всего становятся прибыльными?\n",
    "Вариант 1. С использованием пользовательской функции."
   ]
  },
  {
   "cell_type": "code",
   "execution_count": 37,
   "metadata": {},
   "outputs": [],
   "source": [
    "answers['12'] = 'Drama'"
   ]
  },
  {
   "cell_type": "code",
   "execution_count": 38,
   "metadata": {},
   "outputs": [
    {
     "name": "stdout",
     "output_type": "stream",
     "text": [
      "Чаще всего становятся прибыльными фильмы в жанре \"Drama\".\n"
     ]
    }
   ],
   "source": [
    "#------------------------------------------------------------------------------#\n",
    "df = data2.copy()\n",
    "# В отличие от Вопроса 11, здесь нужно отфильтровать записи с profit > 0:\n",
    "df = df.query('profit > 0')\n",
    "# Применяем пользовательскую функцию \"df_explode\" (в режиме value_counts):\n",
    "genre = df_explode(df, 'genres', cnt = True).idxmax()\n",
    "print(f'Чаще всего становятся прибыльными фильмы в жанре \"{genre}\".')"
   ]
  },
  {
   "cell_type": "markdown",
   "metadata": {},
   "source": [
    "Вариант 2. Несколько извращённый. С использованием groupby."
   ]
  },
  {
   "cell_type": "code",
   "execution_count": 39,
   "metadata": {
    "colab": {},
    "colab_type": "code",
    "id": "Tmt8MaK1Vp_R"
   },
   "outputs": [
    {
     "name": "stdout",
     "output_type": "stream",
     "text": [
      "Чаще всего становятся прибыльными фильмы в жанре \"Drama\".\n"
     ]
    }
   ],
   "source": [
    "#------------------------------------------------------------------------------#\n",
    "cols = ['genres', 'profit']\n",
    "df = data2.query('profit > 0')[cols].copy()\n",
    "# Применяем пользовательскую функцию \"df_explode\" (в режиме DataFrame):\n",
    "df = df_explode(df, 'genres', cnt = False)\n",
    "df.profit = 1\n",
    "# Ответ в текстовой форме:\n",
    "genre = df.groupby('genres').profit.sum().idxmax()\n",
    "print(f'Чаще всего становятся прибыльными фильмы в жанре \"{genre}\".')"
   ]
  },
  {
   "cell_type": "markdown",
   "metadata": {
    "colab_type": "text",
    "id": "0F23bgsDVp_U"
   },
   "source": [
    "## 13. У какого режиссера самые большие суммарные кассовые сборы?"
   ]
  },
  {
   "cell_type": "code",
   "execution_count": 40,
   "metadata": {
    "colab": {},
    "colab_type": "code",
    "id": "K6Z3J8ygVp_X"
   },
   "outputs": [],
   "source": [
    "answers['13'] = 'Peter Jackson'"
   ]
  },
  {
   "cell_type": "code",
   "execution_count": 41,
   "metadata": {},
   "outputs": [
    {
     "data": {
      "text/html": [
       "<div>\n",
       "<style scoped>\n",
       "    .dataframe tbody tr th:only-of-type {\n",
       "        vertical-align: middle;\n",
       "    }\n",
       "\n",
       "    .dataframe tbody tr th {\n",
       "        vertical-align: top;\n",
       "    }\n",
       "\n",
       "    .dataframe thead th {\n",
       "        text-align: right;\n",
       "    }\n",
       "</style>\n",
       "<table border=\"1\" class=\"dataframe\">\n",
       "  <thead>\n",
       "    <tr style=\"text-align: right;\">\n",
       "      <th>director</th>\n",
       "      <th>Peter Jackson</th>\n",
       "    </tr>\n",
       "  </thead>\n",
       "  <tbody>\n",
       "    <tr>\n",
       "      <th>revenue</th>\n",
       "      <td>6490593685</td>\n",
       "    </tr>\n",
       "  </tbody>\n",
       "</table>\n",
       "</div>"
      ],
      "text/plain": [
       "director  Peter Jackson\n",
       "revenue      6490593685"
      ]
     },
     "metadata": {},
     "output_type": "display_data"
    },
    {
     "name": "stdout",
     "output_type": "stream",
     "text": [
      "Самые большие суммарные кассовые сборы - у режиссёра Peter Jackson.\n"
     ]
    }
   ],
   "source": [
    "#------------------------------------------------------------------------------#\n",
    "cols = ['director', 'revenue']\n",
    "df = data2[cols].copy()\n",
    "# Применяем пользовательскую функцию \"df_explode\" (в режиме DataFrame):\n",
    "df = df_explode(df, 'director', cnt = False)\n",
    "df = df.groupby('director')[['revenue']].sum()\n",
    "# Проверяем, одна ли запись удовлетворяет критерию фильтрации:\n",
    "display(df[df.revenue == df.revenue.max()].T)\n",
    "# Запись одна, оформляем результат в текстовой форме:\n",
    "name = df.revenue.idxmax()\n",
    "print(f'Самые большие суммарные кассовые сборы - у режиссёра {name}.')"
   ]
  },
  {
   "cell_type": "markdown",
   "metadata": {
    "colab_type": "text",
    "id": "PsYC9FgRVp_a"
   },
   "source": [
    "## 14. Какой режисер снял больше всего фильмов в стиле Action?\n",
    "Вариант 1."
   ]
  },
  {
   "cell_type": "code",
   "execution_count": 42,
   "metadata": {},
   "outputs": [],
   "source": [
    "answers['14'] = 'Robert Rodriguez'"
   ]
  },
  {
   "cell_type": "code",
   "execution_count": 43,
   "metadata": {
    "colab": {},
    "colab_type": "code",
    "id": "wd2M-wHeVp_b"
   },
   "outputs": [
    {
     "data": {
      "text/plain": [
       "Robert Rodriguez      9\n",
       "Paul W.S. Anderson    7\n",
       "Michael Bay           7\n",
       "Name: director, dtype: int64"
      ]
     },
     "metadata": {},
     "output_type": "display_data"
    },
    {
     "name": "stdout",
     "output_type": "stream",
     "text": [
      "Больше всего фильмов в стиле Action (9 шт.) снял режиссёр Robert Rodriguez.\n"
     ]
    }
   ],
   "source": [
    "#------------------------------------------------------------------------------#\n",
    "cols = ['director', 'genres']\n",
    "df = data2[cols].copy()\n",
    "# Выбираем записи, содержащие Action в полях столбца \"genres\":\n",
    "df = df[df.genres.str.contains('Action')]\n",
    "# Применяем пользовательскую функцию (в режиме value_counts):\n",
    "df_sr = df_explode(df, 'director', cnt = True)\n",
    "# Проверяем, одна ли запись удовлетворяет ответу на вопрос задания:\n",
    "display(df_sr.head(3))\n",
    "# Запись одна, оформляем результат в текстовой форме:\n",
    "name, num = df_sr.idxmax(), df_sr.max()\n",
    "print(f'Больше всего фильмов в стиле Action ({num} шт.) снял режиссёр {name}.')"
   ]
  },
  {
   "cell_type": "markdown",
   "metadata": {},
   "source": [
    "Вариант 2. С использованием сводной таблицы."
   ]
  },
  {
   "cell_type": "code",
   "execution_count": 44,
   "metadata": {},
   "outputs": [
    {
     "data": {
      "text/html": [
       "<div>\n",
       "<style scoped>\n",
       "    .dataframe tbody tr th:only-of-type {\n",
       "        vertical-align: middle;\n",
       "    }\n",
       "\n",
       "    .dataframe tbody tr th {\n",
       "        vertical-align: top;\n",
       "    }\n",
       "\n",
       "    .dataframe thead th {\n",
       "        text-align: right;\n",
       "    }\n",
       "</style>\n",
       "<table border=\"1\" class=\"dataframe\">\n",
       "  <thead>\n",
       "    <tr style=\"text-align: right;\">\n",
       "      <th>director</th>\n",
       "      <th>Robert Rodriguez</th>\n",
       "      <th>Michael Bay</th>\n",
       "      <th>Paul W.S. Anderson</th>\n",
       "    </tr>\n",
       "    <tr>\n",
       "      <th>genres</th>\n",
       "      <th></th>\n",
       "      <th></th>\n",
       "      <th></th>\n",
       "    </tr>\n",
       "  </thead>\n",
       "  <tbody>\n",
       "    <tr>\n",
       "      <th>Action</th>\n",
       "      <td>9</td>\n",
       "      <td>7</td>\n",
       "      <td>7</td>\n",
       "    </tr>\n",
       "  </tbody>\n",
       "</table>\n",
       "</div>"
      ],
      "text/plain": [
       "director  Robert Rodriguez  Michael Bay  Paul W.S. Anderson\n",
       "genres                                                     \n",
       "Action                   9            7                   7"
      ]
     },
     "metadata": {},
     "output_type": "display_data"
    },
    {
     "name": "stdout",
     "output_type": "stream",
     "text": [
      "Больше всего фильмов в стиле Action (9 шт.) снял режиссёр Robert Rodriguez.\n"
     ]
    }
   ],
   "source": [
    "#------------------------------------------------------------------------------#\n",
    "df = data2.copy()\n",
    "# Подготавливаем датафрейм к созданию сводной таблицы.\n",
    "# Применяем пользовательскую функцию (в режиме DataFrame):\n",
    "df = df_explode(df, 'director'); df = df_explode(df, 'genres')\n",
    "# Сводную таблицу создаём для Action, суммируя в этом жанре количество фильмов,\n",
    "# которые были выпущены каждым режиссёром в каждом из годов в базе данных:\n",
    "pvt = df[df.genres.isin(['Action'])].pivot_table(values = 'release_year',\n",
    "        index = 'director', columns = 'genres', aggfunc = 'count')\n",
    "pvt = pvt.sort_values(by='Action', ascending=False) # Упорядочиваем по убыванию\n",
    "display(pvt.head(3).T)\n",
    "# Оформляем результат в текстовой форме:\n",
    "num, name = pvt.Action.max(), pvt.Action.idxmax()\n",
    "print(f'Больше всего фильмов в стиле Action ({num} шт.) снял режиссёр {name}.')"
   ]
  },
  {
   "cell_type": "markdown",
   "metadata": {
    "colab_type": "text",
    "id": "PQ0KciD7Vp_f"
   },
   "source": [
    "## 15. Фильмы с каким актером принесли самые высокие кассовые сборы в 2012 году?"
   ]
  },
  {
   "cell_type": "code",
   "execution_count": 45,
   "metadata": {
    "colab": {},
    "colab_type": "code",
    "id": "aga62oeKVp_g"
   },
   "outputs": [],
   "source": [
    "answers['15'] = 'Chris Hemsworth'"
   ]
  },
  {
   "cell_type": "code",
   "execution_count": 46,
   "metadata": {},
   "outputs": [
    {
     "data": {
      "text/html": [
       "<div>\n",
       "<style scoped>\n",
       "    .dataframe tbody tr th:only-of-type {\n",
       "        vertical-align: middle;\n",
       "    }\n",
       "\n",
       "    .dataframe tbody tr th {\n",
       "        vertical-align: top;\n",
       "    }\n",
       "\n",
       "    .dataframe thead th {\n",
       "        text-align: right;\n",
       "    }\n",
       "</style>\n",
       "<table border=\"1\" class=\"dataframe\">\n",
       "  <thead>\n",
       "    <tr style=\"text-align: right;\">\n",
       "      <th>cast</th>\n",
       "      <th>Chris Hemsworth</th>\n",
       "      <th>Denis Leary</th>\n",
       "      <th>Anne Hathaway</th>\n",
       "    </tr>\n",
       "  </thead>\n",
       "  <tbody>\n",
       "    <tr>\n",
       "      <th>revenue</th>\n",
       "      <td>2027450773</td>\n",
       "      <td>1629460639</td>\n",
       "      <td>1522851057</td>\n",
       "    </tr>\n",
       "  </tbody>\n",
       "</table>\n",
       "</div>"
      ],
      "text/plain": [
       "cast     Chris Hemsworth  Denis Leary  Anne Hathaway\n",
       "revenue       2027450773   1629460639     1522851057"
      ]
     },
     "metadata": {},
     "output_type": "display_data"
    },
    {
     "name": "stdout",
     "output_type": "stream",
     "text": [
      "Самые высокие кассовые сборы в 2012 году принесли фильмы с актёром Chris Hemsworth.\n",
      "Сумма сборов составила 2027.5 млн. долларов.\n"
     ]
    },
    {
     "data": {
      "text/html": [
       "<div>\n",
       "<style scoped>\n",
       "    .dataframe tbody tr th:only-of-type {\n",
       "        vertical-align: middle;\n",
       "    }\n",
       "\n",
       "    .dataframe tbody tr th {\n",
       "        vertical-align: top;\n",
       "    }\n",
       "\n",
       "    .dataframe thead th {\n",
       "        text-align: right;\n",
       "    }\n",
       "</style>\n",
       "<table border=\"1\" class=\"dataframe\">\n",
       "  <thead>\n",
       "    <tr style=\"text-align: right;\">\n",
       "      <th>original_title</th>\n",
       "      <th>The Avengers</th>\n",
       "      <th>Snow White and the Huntsman</th>\n",
       "      <th>The Cabin in the Woods</th>\n",
       "      <th>Red Dawn</th>\n",
       "    </tr>\n",
       "  </thead>\n",
       "  <tbody>\n",
       "    <tr>\n",
       "      <th>revenue</th>\n",
       "      <td>1519557910</td>\n",
       "      <td>396600000</td>\n",
       "      <td>66486080</td>\n",
       "      <td>44806783</td>\n",
       "    </tr>\n",
       "  </tbody>\n",
       "</table>\n",
       "</div>"
      ],
      "text/plain": [
       "original_title  The Avengers  Snow White and the Huntsman  \\\n",
       "revenue           1519557910                    396600000   \n",
       "\n",
       "original_title  The Cabin in the Woods  Red Dawn  \n",
       "revenue                       66486080  44806783  "
      ]
     },
     "metadata": {},
     "output_type": "display_data"
    },
    {
     "name": "stdout",
     "output_type": "stream",
     "text": [
      "Список этих фильмов: \n",
      "- The Avengers \n",
      "- Snow White and the Huntsman \n",
      "- The Cabin in the Woods \n",
      "- Red Dawn\n"
     ]
    }
   ],
   "source": [
    "#------------------------------------------------------------------------------#\n",
    "cols = ['cast', 'revenue', 'original_title']\n",
    "df = data2.query('release_year == 2012')[cols].copy()\n",
    "# Группируем по актёрам и по кассовым сборам фильмов с их участием:\n",
    "df = df_explode(df, 'cast')\n",
    "df = df.groupby(['cast'])[['revenue']].sum().sort_values(by = 'revenue',\n",
    "                                                         ascending=False)\n",
    "display(df.head(3).T)\n",
    "# Оформляем результат в текстовой форме:\n",
    "name, money = df.revenue.idxmax(), df.revenue.max()\n",
    "print(f'Самые высокие кассовые сборы в 2012 году принесли фильмы с актёром {name}.')\n",
    "print(f'Сумма сборов составила {round(money/1e6, 1)} млн. долларов.')\n",
    "\n",
    "# Посмотрим, что это за фильмы:\n",
    "df_films = data2[(data2.cast.str.contains(name))&\n",
    "                 (data2.release_year == 2012)][cols].copy()\n",
    "# Чуть украшаем форму представления: \n",
    "df_films.index = df_films.original_title\n",
    "del df_films['original_title'], df_films['cast']\n",
    "# Результат:\n",
    "display(df_films.T)\n",
    "# В текстовой форме:\n",
    "names = df_films.index\n",
    "print('Список этих фильмов:', '\\n-', names[0], '\\n-', names[1], '\\n-', names[2],\n",
    "      '\\n-', names[3])"
   ]
  },
  {
   "cell_type": "markdown",
   "metadata": {
    "colab_type": "text",
    "id": "mWHyyL7QVp_j"
   },
   "source": [
    "## 16. Какой актер снялся в большем количестве высокобюджетных фильмов?\n",
    "Вариант 1. Компактный."
   ]
  },
  {
   "cell_type": "code",
   "execution_count": 47,
   "metadata": {
    "colab": {},
    "colab_type": "code",
    "id": "qQtmHKTFVp_k"
   },
   "outputs": [],
   "source": [
    "answers['16'] = 'Matt Damon'"
   ]
  },
  {
   "cell_type": "code",
   "execution_count": 48,
   "metadata": {},
   "outputs": [
    {
     "name": "stdout",
     "output_type": "stream",
     "text": [
      "В большем количестве высокобюджетных фильмов снялся актёр Matt Damon.\n"
     ]
    }
   ],
   "source": [
    "#------------------------------------------------------------------------------#\n",
    "cols = ['cast', 'budget']\n",
    "df = data2[data2.budget > data2.budget.mean()][cols].copy()\n",
    "name = df_explode(df, 'cast', cnt = True).idxmax()\n",
    "print(f'В большем количестве высокобюджетных фильмов снялся актёр {name}.')"
   ]
  },
  {
   "cell_type": "markdown",
   "metadata": {},
   "source": [
    "Вариант 2. С использованием groupby."
   ]
  },
  {
   "cell_type": "code",
   "execution_count": 49,
   "metadata": {},
   "outputs": [
    {
     "data": {
      "text/html": [
       "<div>\n",
       "<style scoped>\n",
       "    .dataframe tbody tr th:only-of-type {\n",
       "        vertical-align: middle;\n",
       "    }\n",
       "\n",
       "    .dataframe tbody tr th {\n",
       "        vertical-align: top;\n",
       "    }\n",
       "\n",
       "    .dataframe thead th {\n",
       "        text-align: right;\n",
       "    }\n",
       "</style>\n",
       "<table border=\"1\" class=\"dataframe\">\n",
       "  <thead>\n",
       "    <tr style=\"text-align: right;\">\n",
       "      <th>cast:</th>\n",
       "      <th>Matt Damon</th>\n",
       "      <th>Adam Sandler</th>\n",
       "      <th>Angelina Jolie</th>\n",
       "    </tr>\n",
       "  </thead>\n",
       "  <tbody>\n",
       "    <tr>\n",
       "      <th>number of films:</th>\n",
       "      <td>18</td>\n",
       "      <td>17</td>\n",
       "      <td>16</td>\n",
       "    </tr>\n",
       "  </tbody>\n",
       "</table>\n",
       "</div>"
      ],
      "text/plain": [
       "cast:             Matt Damon  Adam Sandler  Angelina Jolie\n",
       "number of films:          18            17              16"
      ]
     },
     "metadata": {},
     "output_type": "display_data"
    },
    {
     "name": "stdout",
     "output_type": "stream",
     "text": [
      "В большем количестве (18 шт.) высокобюджетных фильмов снялся актёр Matt Damon.\n"
     ]
    }
   ],
   "source": [
    "cols = ['cast', 'original_title']\n",
    "df = data2[data2.budget > data2.budget.mean()][cols].copy()\n",
    "# Переименуем колонки для большей информативности сгруппированной таблицы:\n",
    "df.columns = ['cast:', 'number of films:']\n",
    "# Подготовка:\n",
    "df = df_explode(df, 'cast:')\n",
    "# Группируем:\n",
    "df_grp = df.groupby('cast:')[['number of films:']].count().sort_values(\n",
    "    by = 'number of films:', ascending = False)\n",
    "# Смотрим:\n",
    "display(df_grp.head(3).T)\n",
    "# В текстовой форме:\n",
    "num, name = df_grp['number of films:'].max(), df_grp['number of films:'].idxmax()\n",
    "print(f'В большем количестве ({num} шт.) высокобюджетных фильмов снялся актёр {name}.')"
   ]
  },
  {
   "cell_type": "markdown",
   "metadata": {},
   "source": [
    "Вариант 3. С использованием \"урезанной\" сводной таблицы."
   ]
  },
  {
   "cell_type": "code",
   "execution_count": 50,
   "metadata": {},
   "outputs": [
    {
     "data": {
      "text/html": [
       "<div>\n",
       "<style scoped>\n",
       "    .dataframe tbody tr th:only-of-type {\n",
       "        vertical-align: middle;\n",
       "    }\n",
       "\n",
       "    .dataframe tbody tr th {\n",
       "        vertical-align: top;\n",
       "    }\n",
       "\n",
       "    .dataframe thead th {\n",
       "        text-align: right;\n",
       "    }\n",
       "</style>\n",
       "<table border=\"1\" class=\"dataframe\">\n",
       "  <thead>\n",
       "    <tr style=\"text-align: right;\">\n",
       "      <th>cast:</th>\n",
       "      <th>Matt Damon</th>\n",
       "      <th>Adam Sandler</th>\n",
       "      <th>Angelina Jolie</th>\n",
       "    </tr>\n",
       "  </thead>\n",
       "  <tbody>\n",
       "    <tr>\n",
       "      <th>number of films:</th>\n",
       "      <td>18</td>\n",
       "      <td>17</td>\n",
       "      <td>16</td>\n",
       "    </tr>\n",
       "  </tbody>\n",
       "</table>\n",
       "</div>"
      ],
      "text/plain": [
       "cast:             Matt Damon  Adam Sandler  Angelina Jolie\n",
       "number of films:          18            17              16"
      ]
     },
     "metadata": {},
     "output_type": "display_data"
    },
    {
     "name": "stdout",
     "output_type": "stream",
     "text": [
      "В большем количестве (18 шт.) высокобюджетных фильмов снялся актёр Matt Damon.\n"
     ]
    }
   ],
   "source": [
    "#------------------------------------------------------------------------------#\n",
    "cols = ['cast', 'original_title']\n",
    "df = data2[data2.budget > data2.budget.mean()][cols].copy()\n",
    "# Переименуем колонки для большей информативности сводной таблицы:\n",
    "df.columns = ['cast:', 'number of films:']\n",
    "df = df_explode(df, 'cast:')\n",
    "# Формируем сводную таблицу без параметра columns.\n",
    "# Такая сводная таблица - это, по сути, тот же groupby:\n",
    "df_pvt = df.pivot_table(values = 'number of films:', index = 'cast:', \n",
    "    aggfunc = 'count').sort_values(by = 'number of films:', ascending = False)\n",
    "# Смотрим:\n",
    "display(df_pvt.head(3).T)\n",
    "# В текстовой форме:\n",
    "num, name = df_pvt['number of films:'].max(), df_pvt['number of films:'].idxmax()\n",
    "print(f'В большем количестве ({num} шт.) высокобюджетных фильмов снялся актёр {name}.')"
   ]
  },
  {
   "cell_type": "markdown",
   "metadata": {
    "colab_type": "text",
    "id": "NIh6AaW5Vp_n"
   },
   "source": [
    "## 17. В фильмах какого жанра больше всего снимался Nicolas Cage?\n",
    "Вариант 1. Компактный."
   ]
  },
  {
   "cell_type": "code",
   "execution_count": 51,
   "metadata": {},
   "outputs": [],
   "source": [
    "answers['17'] = 'Action'"
   ]
  },
  {
   "cell_type": "code",
   "execution_count": 52,
   "metadata": {
    "colab": {},
    "colab_type": "code",
    "id": "H74SJDIBVp_n"
   },
   "outputs": [
    {
     "name": "stdout",
     "output_type": "stream",
     "text": [
      "Nicolas Cage больше всего (17 раз) снялся в фильмах жанра \"Action\".\n"
     ]
    }
   ],
   "source": [
    "#------------------------------------------------------------------------------#\n",
    "cols = ['cast', 'genres']\n",
    "df = data2[cols].copy()\n",
    "# Трансформируем:\n",
    "df = df[df.cast.str.contains('Nicolas Cage')].genres.str.split('|').explode()\n",
    "# Ответ в текстовой форме:\n",
    "num, genre = df.value_counts().max(), df.value_counts().idxmax()\n",
    "print(f'Nicolas Cage больше всего ({num} раз) снялся в фильмах жанра \"{genre}\".')"
   ]
  },
  {
   "cell_type": "markdown",
   "metadata": {},
   "source": [
    "Вариант 2. С использованием сводной таблицы."
   ]
  },
  {
   "cell_type": "code",
   "execution_count": 53,
   "metadata": {},
   "outputs": [
    {
     "data": {
      "text/html": [
       "<div>\n",
       "<style scoped>\n",
       "    .dataframe tbody tr th:only-of-type {\n",
       "        vertical-align: middle;\n",
       "    }\n",
       "\n",
       "    .dataframe tbody tr th {\n",
       "        vertical-align: top;\n",
       "    }\n",
       "\n",
       "    .dataframe thead th {\n",
       "        text-align: right;\n",
       "    }\n",
       "</style>\n",
       "<table border=\"1\" class=\"dataframe\">\n",
       "  <thead>\n",
       "    <tr style=\"text-align: right;\">\n",
       "      <th>genres</th>\n",
       "      <th>Action</th>\n",
       "      <th>Adventure</th>\n",
       "      <th>Animation</th>\n",
       "      <th>Comedy</th>\n",
       "      <th>Crime</th>\n",
       "      <th>Documentary</th>\n",
       "      <th>Drama</th>\n",
       "      <th>Family</th>\n",
       "      <th>Fantasy</th>\n",
       "      <th>Foreign</th>\n",
       "      <th>History</th>\n",
       "      <th>Horror</th>\n",
       "      <th>Music</th>\n",
       "      <th>Mystery</th>\n",
       "      <th>Romance</th>\n",
       "      <th>Science Fiction</th>\n",
       "      <th>Thriller</th>\n",
       "      <th>War</th>\n",
       "      <th>Western</th>\n",
       "    </tr>\n",
       "    <tr>\n",
       "      <th>cast</th>\n",
       "      <th></th>\n",
       "      <th></th>\n",
       "      <th></th>\n",
       "      <th></th>\n",
       "      <th></th>\n",
       "      <th></th>\n",
       "      <th></th>\n",
       "      <th></th>\n",
       "      <th></th>\n",
       "      <th></th>\n",
       "      <th></th>\n",
       "      <th></th>\n",
       "      <th></th>\n",
       "      <th></th>\n",
       "      <th></th>\n",
       "      <th></th>\n",
       "      <th></th>\n",
       "      <th></th>\n",
       "      <th></th>\n",
       "    </tr>\n",
       "  </thead>\n",
       "  <tbody>\n",
       "    <tr>\n",
       "      <th>50 Cent</th>\n",
       "      <td>4</td>\n",
       "      <td>1</td>\n",
       "      <td>0</td>\n",
       "      <td>0</td>\n",
       "      <td>2</td>\n",
       "      <td>0</td>\n",
       "      <td>4</td>\n",
       "      <td>0</td>\n",
       "      <td>0</td>\n",
       "      <td>0</td>\n",
       "      <td>0</td>\n",
       "      <td>0</td>\n",
       "      <td>0</td>\n",
       "      <td>0</td>\n",
       "      <td>0</td>\n",
       "      <td>0</td>\n",
       "      <td>3</td>\n",
       "      <td>0</td>\n",
       "      <td>0</td>\n",
       "    </tr>\n",
       "    <tr>\n",
       "      <th>A.J. Cook</th>\n",
       "      <td>0</td>\n",
       "      <td>0</td>\n",
       "      <td>0</td>\n",
       "      <td>0</td>\n",
       "      <td>0</td>\n",
       "      <td>0</td>\n",
       "      <td>0</td>\n",
       "      <td>0</td>\n",
       "      <td>0</td>\n",
       "      <td>0</td>\n",
       "      <td>0</td>\n",
       "      <td>1</td>\n",
       "      <td>0</td>\n",
       "      <td>1</td>\n",
       "      <td>0</td>\n",
       "      <td>0</td>\n",
       "      <td>0</td>\n",
       "      <td>0</td>\n",
       "      <td>0</td>\n",
       "    </tr>\n",
       "    <tr>\n",
       "      <th>Aaliyah</th>\n",
       "      <td>1</td>\n",
       "      <td>0</td>\n",
       "      <td>0</td>\n",
       "      <td>0</td>\n",
       "      <td>1</td>\n",
       "      <td>0</td>\n",
       "      <td>1</td>\n",
       "      <td>0</td>\n",
       "      <td>1</td>\n",
       "      <td>0</td>\n",
       "      <td>0</td>\n",
       "      <td>1</td>\n",
       "      <td>0</td>\n",
       "      <td>0</td>\n",
       "      <td>0</td>\n",
       "      <td>0</td>\n",
       "      <td>1</td>\n",
       "      <td>0</td>\n",
       "      <td>0</td>\n",
       "    </tr>\n",
       "  </tbody>\n",
       "</table>\n",
       "</div>"
      ],
      "text/plain": [
       "genres     Action  Adventure  Animation  Comedy  Crime  Documentary  Drama  \\\n",
       "cast                                                                         \n",
       "50 Cent         4          1          0       0      2            0      4   \n",
       "A.J. Cook       0          0          0       0      0            0      0   \n",
       "Aaliyah         1          0          0       0      1            0      1   \n",
       "\n",
       "genres     Family  Fantasy  Foreign  History  Horror  Music  Mystery  Romance  \\\n",
       "cast                                                                            \n",
       "50 Cent         0        0        0        0       0      0        0        0   \n",
       "A.J. Cook       0        0        0        0       1      0        1        0   \n",
       "Aaliyah         0        1        0        0       1      0        0        0   \n",
       "\n",
       "genres     Science Fiction  Thriller  War  Western  \n",
       "cast                                                \n",
       "50 Cent                  0         3    0        0  \n",
       "A.J. Cook                0         0    0        0  \n",
       "Aaliyah                  0         1    0        0  "
      ]
     },
     "metadata": {},
     "output_type": "display_data"
    },
    {
     "name": "stdout",
     "output_type": "stream",
     "text": [
      "Nicolas Cage больше всего (17 раз) снялся в фильмах жанра \"Action\".\n"
     ]
    }
   ],
   "source": [
    "#------------------------------------------------------------------------------#\n",
    "cols = ['cast', 'genres', 'original_title']\n",
    "df = data2[cols].copy()\n",
    "# Трансформируем:\n",
    "df.genres = df.genres.str.split('|'); df = df.explode('genres')\n",
    "df.cast = df.cast.str.split('|'); df = df.explode('cast')\n",
    "# Формируем сводную таблицу:\n",
    "df_pvt = df.pivot_table(values = 'original_title', index = 'cast',\n",
    "                        columns = 'genres', aggfunc = 'count', fill_value = 0)\n",
    "display(df_pvt.head(3))\n",
    "# Ответ в текстовой форме:\n",
    "name = 'Nicolas Cage'\n",
    "num, genre = df_pvt.loc[name].max(), df_pvt.loc[name].idxmax()\n",
    "print(f'{name} больше всего ({num} раз) снялся в фильмах жанра \"{genre}\".')"
   ]
  },
  {
   "cell_type": "markdown",
   "metadata": {
    "colab_type": "text",
    "id": "RqOmPRfWVp_q"
   },
   "source": [
    "## 18. Самый убыточный фильм от Paramount Pictures\n",
    "Вариант 1. Компактный."
   ]
  },
  {
   "cell_type": "code",
   "execution_count": 54,
   "metadata": {
    "colab": {},
    "colab_type": "code",
    "id": "9E_B0Y96Vp_r"
   },
   "outputs": [],
   "source": [
    "answers['18'] = 'K-19: The Widowmaker (tt0267626)'"
   ]
  },
  {
   "cell_type": "code",
   "execution_count": 55,
   "metadata": {},
   "outputs": [
    {
     "name": "stdout",
     "output_type": "stream",
     "text": [
      "Самый убыточный фильм от Paramount Pictures называется \"K-19: The Widowmaker\" (tt0267626).\n",
      "Убытки составили 64.8 млн. долларов.\n"
     ]
    }
   ],
   "source": [
    "#------------------------------------------------------------------------------#\n",
    "cols = ['production_companies', 'release_year', 'original_title',\n",
    "        'imdb_id', 'profit']\n",
    "df = data2[cols].copy()\n",
    "# Отыскиваем индекс самого убыточного фильма от Paramount Pictures:\n",
    "imin = df[df.production_companies.str.contains('Paramount Pictures')].profit.idxmin()\n",
    "# Ответ в текстовой форме:\n",
    "company = 'Paramount Pictures'\n",
    "_, _, film, id_val, money = df.loc[imin, cols]\n",
    "print(f'Самый убыточный фильм от {company} называется \"{film}\" ({id_val}).')\n",
    "print(f'Убытки составили {round(abs(money/1e6), 1)} млн. долларов.')"
   ]
  },
  {
   "cell_type": "markdown",
   "metadata": {
    "colab_type": "text",
    "id": "vS8Ur6ddVp_u"
   },
   "source": [
    "## 19. Какой год стал самым успешным по суммарным кассовым сборам?\n",
    "Вариант 1. Построение таблицы \"Год - Суммарные кассовые сборы\"."
   ]
  },
  {
   "cell_type": "code",
   "execution_count": 56,
   "metadata": {},
   "outputs": [],
   "source": [
    "answers['19'] = '2015'"
   ]
  },
  {
   "cell_type": "code",
   "execution_count": 57,
   "metadata": {
    "colab": {},
    "colab_type": "code",
    "id": "Dnbt4GdIVp_v"
   },
   "outputs": [
    {
     "data": {
      "text/html": [
       "<div>\n",
       "<style scoped>\n",
       "    .dataframe tbody tr th:only-of-type {\n",
       "        vertical-align: middle;\n",
       "    }\n",
       "\n",
       "    .dataframe tbody tr th {\n",
       "        vertical-align: top;\n",
       "    }\n",
       "\n",
       "    .dataframe thead th {\n",
       "        text-align: right;\n",
       "    }\n",
       "</style>\n",
       "<table border=\"1\" class=\"dataframe\">\n",
       "  <thead>\n",
       "    <tr style=\"text-align: right;\">\n",
       "      <th></th>\n",
       "      <th>revenue</th>\n",
       "    </tr>\n",
       "    <tr>\n",
       "      <th>release_year</th>\n",
       "      <th></th>\n",
       "    </tr>\n",
       "  </thead>\n",
       "  <tbody>\n",
       "    <tr>\n",
       "      <th>2000</th>\n",
       "      <td>10664099805</td>\n",
       "    </tr>\n",
       "    <tr>\n",
       "      <th>2001</th>\n",
       "      <td>13017764865</td>\n",
       "    </tr>\n",
       "    <tr>\n",
       "      <th>2002</th>\n",
       "      <td>14136361487</td>\n",
       "    </tr>\n",
       "    <tr>\n",
       "      <th>2003</th>\n",
       "      <td>14346123312</td>\n",
       "    </tr>\n",
       "    <tr>\n",
       "      <th>2004</th>\n",
       "      <td>15663430720</td>\n",
       "    </tr>\n",
       "    <tr>\n",
       "      <th>2005</th>\n",
       "      <td>15309425558</td>\n",
       "    </tr>\n",
       "    <tr>\n",
       "      <th>2006</th>\n",
       "      <td>14775042320</td>\n",
       "    </tr>\n",
       "    <tr>\n",
       "      <th>2007</th>\n",
       "      <td>18162406801</td>\n",
       "    </tr>\n",
       "    <tr>\n",
       "      <th>2008</th>\n",
       "      <td>18252781990</td>\n",
       "    </tr>\n",
       "    <tr>\n",
       "      <th>2009</th>\n",
       "      <td>20261791024</td>\n",
       "    </tr>\n",
       "    <tr>\n",
       "      <th>2010</th>\n",
       "      <td>21071204961</td>\n",
       "    </tr>\n",
       "    <tr>\n",
       "      <th>2011</th>\n",
       "      <td>22676791872</td>\n",
       "    </tr>\n",
       "    <tr>\n",
       "      <th>2012</th>\n",
       "      <td>23079001687</td>\n",
       "    </tr>\n",
       "    <tr>\n",
       "      <th>2013</th>\n",
       "      <td>23213799791</td>\n",
       "    </tr>\n",
       "    <tr>\n",
       "      <th>2014</th>\n",
       "      <td>23405862953</td>\n",
       "    </tr>\n",
       "    <tr>\n",
       "      <th>2015</th>\n",
       "      <td>25449202382</td>\n",
       "    </tr>\n",
       "  </tbody>\n",
       "</table>\n",
       "</div>"
      ],
      "text/plain": [
       "                  revenue\n",
       "release_year             \n",
       "2000          10664099805\n",
       "2001          13017764865\n",
       "2002          14136361487\n",
       "2003          14346123312\n",
       "2004          15663430720\n",
       "2005          15309425558\n",
       "2006          14775042320\n",
       "2007          18162406801\n",
       "2008          18252781990\n",
       "2009          20261791024\n",
       "2010          21071204961\n",
       "2011          22676791872\n",
       "2012          23079001687\n",
       "2013          23213799791\n",
       "2014          23405862953\n",
       "2015          25449202382"
      ]
     },
     "metadata": {},
     "output_type": "display_data"
    },
    {
     "name": "stdout",
     "output_type": "stream",
     "text": [
      "Самым успешным по суммарным кассовым сборам стал 2015 год.\n",
      "Кассовые сборы в этом году составили 25449.0 млн. долларов.\n"
     ]
    }
   ],
   "source": [
    "#------------------------------------------------------------------------------#\n",
    "cols = ['release_year', 'revenue']\n",
    "df = data2[cols].copy()\n",
    "# Формируем датафрейм - кассовые (max revenue) сборы по годам :\n",
    "df = df.groupby('release_year')[['revenue']].sum()\n",
    "# Любуемся:\n",
    "display(df)\n",
    "# В текстовой форме:\n",
    "year, money = df.revenue.idxmax(), df.revenue.max()/1e6\n",
    "print(f'Самым успешным по суммарным кассовым сборам стал {year} год.')\n",
    "print(f'Кассовые сборы в этом году составили {round(money, 0)} млн. долларов.')"
   ]
  },
  {
   "cell_type": "markdown",
   "metadata": {},
   "source": [
    "Вариант 2. С использованием словаря вида {год : суммарный revenue}, который трансформируется в объект Series."
   ]
  },
  {
   "cell_type": "code",
   "execution_count": 58,
   "metadata": {},
   "outputs": [
    {
     "name": "stdout",
     "output_type": "stream",
     "text": [
      "Самым успешным по суммарным кассовым сборам стал 2015 год.\n",
      "Кассовые сборы в этом году составили 25449.0 млн. долларов.\n"
     ]
    }
   ],
   "source": [
    "#------------------------------------------------------------------------------#\n",
    "cols = ['release_year', 'revenue']\n",
    "df = data2[cols].copy()\n",
    "# Создаём словарь вида {год : суммарный revenue}:\n",
    "years = sorted(df.release_year.unique())\n",
    "rev = {year : df[df.release_year == year].revenue.sum() for year in years}\n",
    "# В текстовой форме:\n",
    "year, money = pd.Series(rev).idxmax(), pd.Series(rev).max()/1e6\n",
    "print(f'Самым успешным по суммарным кассовым сборам стал {year} год.')\n",
    "print(f'Кассовые сборы в этом году составили {round(money, 0)} млн. долларов.')"
   ]
  },
  {
   "cell_type": "markdown",
   "metadata": {
    "colab_type": "text",
    "id": "JAzJh4QAVp_z"
   },
   "source": [
    "## 20. Какой самый прибыльный год для студии Warner Bros?\n",
    "Вариант 1. С использованием groupby."
   ]
  },
  {
   "cell_type": "code",
   "execution_count": 59,
   "metadata": {
    "colab": {},
    "colab_type": "code",
    "id": "wgVu02DEVp_0"
   },
   "outputs": [],
   "source": [
    "answers['20'] = '2014'"
   ]
  },
  {
   "cell_type": "code",
   "execution_count": 60,
   "metadata": {},
   "outputs": [
    {
     "name": "stdout",
     "output_type": "stream",
     "text": [
      "Warner Bros.                              168\n",
      "Warner Bros. Pictures                      13\n",
      "Warner Bros. Animation                      5\n",
      "Warner Bros. Interactive Entertainment      1\n",
      "Name: produce, dtype: int64\n",
      "\n",
      "Для студии Warner Bros самым прибыльным стал 2014 год.\n"
     ]
    }
   ],
   "source": [
    "#------------------------------------------------------------------------------#\n",
    "cols = ['production_companies', 'release_year', 'profit']\n",
    "df = data2[cols].copy()\n",
    "# Укоротим названия колонок:\n",
    "cols = ['produce', 'year', 'profit']; df.columns = cols\n",
    "# Посмотрим, сколько компаний имеют название, содержащее \"Warner Bros\":\n",
    "df = df_explode(df, 'produce'); df_wb = df.produce\n",
    "print(df_wb[df_wb.str.contains('Warner Bros')].value_counts()) # Четыре компании.\n",
    "# Предполагаем, что нужно учесть все четыре.\n",
    "# Группируем по годам:\n",
    "df = df[df.produce.str.contains('Warner Bros')]\n",
    "df_grp = df.groupby('year')[['profit']].sum()\n",
    "# Ответ:\n",
    "year = df_grp.profit.idxmax()\n",
    "print(f'\\nДля студии Warner Bros самым прибыльным стал {year} год.')"
   ]
  },
  {
   "cell_type": "markdown",
   "metadata": {},
   "source": [
    "Вариант 2. С использованием сводной таблицы."
   ]
  },
  {
   "cell_type": "code",
   "execution_count": 61,
   "metadata": {},
   "outputs": [
    {
     "data": {
      "text/html": [
       "<div>\n",
       "<style scoped>\n",
       "    .dataframe tbody tr th:only-of-type {\n",
       "        vertical-align: middle;\n",
       "    }\n",
       "\n",
       "    .dataframe tbody tr th {\n",
       "        vertical-align: top;\n",
       "    }\n",
       "\n",
       "    .dataframe thead th {\n",
       "        text-align: right;\n",
       "    }\n",
       "</style>\n",
       "<table border=\"1\" class=\"dataframe\">\n",
       "  <thead>\n",
       "    <tr style=\"text-align: right;\">\n",
       "      <th>produce</th>\n",
       "      <th>\"DIA\" Productions GmbH &amp; Co. KG</th>\n",
       "      <th>11:11 Mediaworks</th>\n",
       "      <th>1492 Pictures</th>\n",
       "      <th>1984 Private Defense Contractors</th>\n",
       "      <th>2 Entertain</th>\n",
       "      <th>20th Century Fox</th>\n",
       "    </tr>\n",
       "    <tr>\n",
       "      <th>year</th>\n",
       "      <th></th>\n",
       "      <th></th>\n",
       "      <th></th>\n",
       "      <th></th>\n",
       "      <th></th>\n",
       "      <th></th>\n",
       "    </tr>\n",
       "  </thead>\n",
       "  <tbody>\n",
       "    <tr>\n",
       "      <th>2000</th>\n",
       "      <td>0</td>\n",
       "      <td>0</td>\n",
       "      <td>0</td>\n",
       "      <td>0</td>\n",
       "      <td>0</td>\n",
       "      <td>104056873</td>\n",
       "    </tr>\n",
       "    <tr>\n",
       "      <th>2001</th>\n",
       "      <td>0</td>\n",
       "      <td>0</td>\n",
       "      <td>781885067</td>\n",
       "      <td>0</td>\n",
       "      <td>0</td>\n",
       "      <td>-19570391</td>\n",
       "    </tr>\n",
       "    <tr>\n",
       "      <th>2002</th>\n",
       "      <td>0</td>\n",
       "      <td>0</td>\n",
       "      <td>776688482</td>\n",
       "      <td>0</td>\n",
       "      <td>0</td>\n",
       "      <td>0</td>\n",
       "    </tr>\n",
       "  </tbody>\n",
       "</table>\n",
       "</div>"
      ],
      "text/plain": [
       "produce  \"DIA\" Productions GmbH & Co. KG  11:11 Mediaworks  1492 Pictures  \\\n",
       "year                                                                        \n",
       "2000                                   0                 0              0   \n",
       "2001                                   0                 0      781885067   \n",
       "2002                                   0                 0      776688482   \n",
       "\n",
       "produce  1984 Private Defense Contractors  2 Entertain  20th Century Fox  \n",
       "year                                                                      \n",
       "2000                                    0            0         104056873  \n",
       "2001                                    0            0         -19570391  \n",
       "2002                                    0            0                 0  "
      ]
     },
     "metadata": {},
     "output_type": "display_data"
    },
    {
     "data": {
      "text/html": [
       "<div>\n",
       "<style scoped>\n",
       "    .dataframe tbody tr th:only-of-type {\n",
       "        vertical-align: middle;\n",
       "    }\n",
       "\n",
       "    .dataframe tbody tr th {\n",
       "        vertical-align: top;\n",
       "    }\n",
       "\n",
       "    .dataframe thead th {\n",
       "        text-align: right;\n",
       "    }\n",
       "</style>\n",
       "<table border=\"1\" class=\"dataframe\">\n",
       "  <thead>\n",
       "    <tr style=\"text-align: right;\">\n",
       "      <th>produce</th>\n",
       "      <th>Warner Bros.</th>\n",
       "      <th>Warner Bros. Animation</th>\n",
       "      <th>Warner Bros. Interactive Entertainment</th>\n",
       "      <th>Warner Bros. Pictures</th>\n",
       "    </tr>\n",
       "    <tr>\n",
       "      <th>year</th>\n",
       "      <th></th>\n",
       "      <th></th>\n",
       "      <th></th>\n",
       "      <th></th>\n",
       "    </tr>\n",
       "  </thead>\n",
       "  <tbody>\n",
       "    <tr>\n",
       "      <th>2000</th>\n",
       "      <td>471305068</td>\n",
       "      <td>0</td>\n",
       "      <td>0</td>\n",
       "      <td>-18673682</td>\n",
       "    </tr>\n",
       "    <tr>\n",
       "      <th>2001</th>\n",
       "      <td>1428174853</td>\n",
       "      <td>-61403089</td>\n",
       "      <td>0</td>\n",
       "      <td>-84629185</td>\n",
       "    </tr>\n",
       "    <tr>\n",
       "      <th>2002</th>\n",
       "      <td>1072248589</td>\n",
       "      <td>0</td>\n",
       "      <td>0</td>\n",
       "      <td>-49538688</td>\n",
       "    </tr>\n",
       "    <tr>\n",
       "      <th>2003</th>\n",
       "      <td>1855493377</td>\n",
       "      <td>-11485156</td>\n",
       "      <td>0</td>\n",
       "      <td>0</td>\n",
       "    </tr>\n",
       "    <tr>\n",
       "      <th>2004</th>\n",
       "      <td>1675125175</td>\n",
       "      <td>0</td>\n",
       "      <td>0</td>\n",
       "      <td>-43191450</td>\n",
       "    </tr>\n",
       "    <tr>\n",
       "      <th>2005</th>\n",
       "      <td>1551980298</td>\n",
       "      <td>0</td>\n",
       "      <td>0</td>\n",
       "      <td>0</td>\n",
       "    </tr>\n",
       "    <tr>\n",
       "      <th>2006</th>\n",
       "      <td>614989614</td>\n",
       "      <td>5181129</td>\n",
       "      <td>0</td>\n",
       "      <td>5181129</td>\n",
       "    </tr>\n",
       "    <tr>\n",
       "      <th>2007</th>\n",
       "      <td>2167367993</td>\n",
       "      <td>0</td>\n",
       "      <td>0</td>\n",
       "      <td>34307224</td>\n",
       "    </tr>\n",
       "    <tr>\n",
       "      <th>2008</th>\n",
       "      <td>2134595031</td>\n",
       "      <td>0</td>\n",
       "      <td>0</td>\n",
       "      <td>0</td>\n",
       "    </tr>\n",
       "    <tr>\n",
       "      <th>2009</th>\n",
       "      <td>1833481628</td>\n",
       "      <td>0</td>\n",
       "      <td>0</td>\n",
       "      <td>-11027492</td>\n",
       "    </tr>\n",
       "    <tr>\n",
       "      <th>2010</th>\n",
       "      <td>1853128844</td>\n",
       "      <td>121584141</td>\n",
       "      <td>0</td>\n",
       "      <td>0</td>\n",
       "    </tr>\n",
       "    <tr>\n",
       "      <th>2011</th>\n",
       "      <td>1871393682</td>\n",
       "      <td>0</td>\n",
       "      <td>0</td>\n",
       "      <td>0</td>\n",
       "    </tr>\n",
       "    <tr>\n",
       "      <th>2012</th>\n",
       "      <td>1258020056</td>\n",
       "      <td>0</td>\n",
       "      <td>0</td>\n",
       "      <td>0</td>\n",
       "    </tr>\n",
       "    <tr>\n",
       "      <th>2013</th>\n",
       "      <td>1636453400</td>\n",
       "      <td>0</td>\n",
       "      <td>0</td>\n",
       "      <td>0</td>\n",
       "    </tr>\n",
       "    <tr>\n",
       "      <th>2014</th>\n",
       "      <td>1886303827</td>\n",
       "      <td>409160692</td>\n",
       "      <td>-2514873</td>\n",
       "      <td>0</td>\n",
       "    </tr>\n",
       "    <tr>\n",
       "      <th>2015</th>\n",
       "      <td>870368348</td>\n",
       "      <td>0</td>\n",
       "      <td>0</td>\n",
       "      <td>0</td>\n",
       "    </tr>\n",
       "  </tbody>\n",
       "</table>\n",
       "</div>"
      ],
      "text/plain": [
       "produce  Warner Bros.  Warner Bros. Animation  \\\n",
       "year                                            \n",
       "2000        471305068                       0   \n",
       "2001       1428174853               -61403089   \n",
       "2002       1072248589                       0   \n",
       "2003       1855493377               -11485156   \n",
       "2004       1675125175                       0   \n",
       "2005       1551980298                       0   \n",
       "2006        614989614                 5181129   \n",
       "2007       2167367993                       0   \n",
       "2008       2134595031                       0   \n",
       "2009       1833481628                       0   \n",
       "2010       1853128844               121584141   \n",
       "2011       1871393682                       0   \n",
       "2012       1258020056                       0   \n",
       "2013       1636453400                       0   \n",
       "2014       1886303827               409160692   \n",
       "2015        870368348                       0   \n",
       "\n",
       "produce  Warner Bros. Interactive Entertainment  Warner Bros. Pictures  \n",
       "year                                                                    \n",
       "2000                                          0              -18673682  \n",
       "2001                                          0              -84629185  \n",
       "2002                                          0              -49538688  \n",
       "2003                                          0                      0  \n",
       "2004                                          0              -43191450  \n",
       "2005                                          0                      0  \n",
       "2006                                          0                5181129  \n",
       "2007                                          0               34307224  \n",
       "2008                                          0                      0  \n",
       "2009                                          0              -11027492  \n",
       "2010                                          0                      0  \n",
       "2011                                          0                      0  \n",
       "2012                                          0                      0  \n",
       "2013                                          0                      0  \n",
       "2014                                   -2514873                      0  \n",
       "2015                                          0                      0  "
      ]
     },
     "metadata": {},
     "output_type": "display_data"
    },
    {
     "name": "stdout",
     "output_type": "stream",
     "text": [
      "Вариант 2.1. Для 4-х компаний Warner Bros самый прибыльный год: 2014.\n",
      "Вариант 2.2. Для \"Warner Bros.\" самый прибыльный год: 2007.\n"
     ]
    }
   ],
   "source": [
    "#------------------------------------------------------------------------------#\n",
    "cols = ['production_companies', 'release_year', 'profit']\n",
    "df = data2[cols].copy()\n",
    "# Укоротим названия колонок:\n",
    "cols = ['produce', 'year', 'profit']; df.columns = cols\n",
    "# Подготовка с использованием пользовательской функции в режиме DataFrame:\n",
    "df = df_explode(df, 'produce')\n",
    "# Сводная таблица по прибыли всех компаний по годам:\n",
    "df = df.pivot_table(values = 'profit', aggfunc = 'sum',\n",
    "                    index = 'year', columns = 'produce', fill_value = 0)\n",
    "display(df[df.columns[:6]].head(3)) # Первые 3 записи и первые 6 столбцов.\n",
    "# Запрос по студии Warner Bros:\n",
    "msk_wb = df.columns.str.contains('Warner Bros') # Булева маска на искомое имя.\n",
    "df_wb = df.loc[:, df.columns[msk_wb]]\n",
    "display(df_wb)\n",
    "# ВАРИАНТ 2.1. Учтём все четыре компании как одну студию Warner Bros:\n",
    "year = df_wb.sum(axis=1).idxmax()\n",
    "print(f'Вариант 2.1. Для 4-х компаний Warner Bros самый прибыльный год: {year}.')\n",
    "# ВАРИАНТ 2.2. Учтём только \"Warner Bros.\":\n",
    "year = df_wb['Warner Bros.'].idxmax()\n",
    "print(f'Вариант 2.2. Для \"Warner Bros.\" самый прибыльный год: {year}.')"
   ]
  },
  {
   "cell_type": "markdown",
   "metadata": {
    "colab_type": "text",
    "id": "8Im1S2HRVp_4"
   },
   "source": [
    "## 21. В каком месяце за все годы суммарно вышло больше всего фильмов?"
   ]
  },
  {
   "cell_type": "code",
   "execution_count": 62,
   "metadata": {
    "colab": {},
    "colab_type": "code",
    "id": "lev6TH7gVp_4"
   },
   "outputs": [],
   "source": [
    "answers['21'] = 'Сентябрь'"
   ]
  },
  {
   "cell_type": "code",
   "execution_count": 63,
   "metadata": {},
   "outputs": [
    {
     "name": "stdout",
     "output_type": "stream",
     "text": [
      "3/18/2015\n",
      "18 Март 2015\n"
     ]
    },
    {
     "data": {
      "text/html": [
       "<div>\n",
       "<style scoped>\n",
       "    .dataframe tbody tr th:only-of-type {\n",
       "        vertical-align: middle;\n",
       "    }\n",
       "\n",
       "    .dataframe tbody tr th {\n",
       "        vertical-align: top;\n",
       "    }\n",
       "\n",
       "    .dataframe thead th {\n",
       "        text-align: right;\n",
       "    }\n",
       "</style>\n",
       "<table border=\"1\" class=\"dataframe\">\n",
       "  <thead>\n",
       "    <tr style=\"text-align: right;\">\n",
       "      <th></th>\n",
       "      <th>release_date</th>\n",
       "      <th>original_title</th>\n",
       "    </tr>\n",
       "  </thead>\n",
       "  <tbody>\n",
       "    <tr>\n",
       "      <th>0</th>\n",
       "      <td>9 Июнь 2015</td>\n",
       "      <td>Jurassic World</td>\n",
       "    </tr>\n",
       "    <tr>\n",
       "      <th>1</th>\n",
       "      <td>13 Май 2015</td>\n",
       "      <td>Mad Max: Fury Road</td>\n",
       "    </tr>\n",
       "    <tr>\n",
       "      <th>2</th>\n",
       "      <td>18 Март 2015</td>\n",
       "      <td>Insurgent</td>\n",
       "    </tr>\n",
       "  </tbody>\n",
       "</table>\n",
       "</div>"
      ],
      "text/plain": [
       "   release_date      original_title\n",
       "0   9 Июнь 2015      Jurassic World\n",
       "1   13 Май 2015  Mad Max: Fury Road\n",
       "2  18 Март 2015           Insurgent"
      ]
     },
     "metadata": {},
     "output_type": "display_data"
    },
    {
     "data": {
      "text/html": [
       "<div>\n",
       "<style scoped>\n",
       "    .dataframe tbody tr th:only-of-type {\n",
       "        vertical-align: middle;\n",
       "    }\n",
       "\n",
       "    .dataframe tbody tr th {\n",
       "        vertical-align: top;\n",
       "    }\n",
       "\n",
       "    .dataframe thead tr th {\n",
       "        text-align: left;\n",
       "    }\n",
       "</style>\n",
       "<table border=\"1\" class=\"dataframe\">\n",
       "  <thead>\n",
       "    <tr>\n",
       "      <th>Сезон:</th>\n",
       "      <th colspan=\"3\" halign=\"left\">Весна</th>\n",
       "      <th colspan=\"3\" halign=\"left\">Зима</th>\n",
       "      <th colspan=\"3\" halign=\"left\">Лето</th>\n",
       "      <th colspan=\"3\" halign=\"left\">Осень</th>\n",
       "    </tr>\n",
       "    <tr>\n",
       "      <th>Месяцы:</th>\n",
       "      <th>Апрель</th>\n",
       "      <th>Май</th>\n",
       "      <th>Март</th>\n",
       "      <th>Декабрь</th>\n",
       "      <th>Февраль</th>\n",
       "      <th>Январь</th>\n",
       "      <th>Август</th>\n",
       "      <th>Июль</th>\n",
       "      <th>Июнь</th>\n",
       "      <th>Ноябрь</th>\n",
       "      <th>Октябрь</th>\n",
       "      <th>Сентябрь</th>\n",
       "    </tr>\n",
       "  </thead>\n",
       "  <tbody>\n",
       "    <tr>\n",
       "      <th>Количество фильмов:</th>\n",
       "      <td>149</td>\n",
       "      <td>140</td>\n",
       "      <td>156</td>\n",
       "      <td>190</td>\n",
       "      <td>135</td>\n",
       "      <td>110</td>\n",
       "      <td>161</td>\n",
       "      <td>142</td>\n",
       "      <td>147</td>\n",
       "      <td>146</td>\n",
       "      <td>186</td>\n",
       "      <td>227</td>\n",
       "    </tr>\n",
       "  </tbody>\n",
       "</table>\n",
       "</div>"
      ],
      "text/plain": [
       "Сезон:               Весна              Зима                  Лето            \\\n",
       "Месяцы:             Апрель  Май Март Декабрь Февраль Январь Август Июль Июнь   \n",
       "Количество фильмов:    149  140  156     190     135    110    161  142  147   \n",
       "\n",
       "Сезон:               Осень                   \n",
       "Месяцы:             Ноябрь Октябрь Сентябрь  \n",
       "Количество фильмов:    146     186      227  "
      ]
     },
     "metadata": {},
     "output_type": "display_data"
    },
    {
     "data": {
      "text/html": [
       "<div>\n",
       "<style scoped>\n",
       "    .dataframe tbody tr th:only-of-type {\n",
       "        vertical-align: middle;\n",
       "    }\n",
       "\n",
       "    .dataframe tbody tr th {\n",
       "        vertical-align: top;\n",
       "    }\n",
       "\n",
       "    .dataframe thead th {\n",
       "        text-align: right;\n",
       "    }\n",
       "</style>\n",
       "<table border=\"1\" class=\"dataframe\">\n",
       "  <thead>\n",
       "    <tr style=\"text-align: right;\">\n",
       "      <th>Сезон:</th>\n",
       "      <th>Весна</th>\n",
       "      <th>Зима</th>\n",
       "      <th>Лето</th>\n",
       "      <th>Осень</th>\n",
       "    </tr>\n",
       "  </thead>\n",
       "  <tbody>\n",
       "    <tr>\n",
       "      <th>Количество фильмов:</th>\n",
       "      <td>445</td>\n",
       "      <td>435</td>\n",
       "      <td>450</td>\n",
       "      <td>559</td>\n",
       "    </tr>\n",
       "  </tbody>\n",
       "</table>\n",
       "</div>"
      ],
      "text/plain": [
       "Сезон:               Весна  Зима  Лето  Осень\n",
       "Количество фильмов:    445   435   450    559"
      ]
     },
     "metadata": {},
     "output_type": "display_data"
    },
    {
     "name": "stdout",
     "output_type": "stream",
     "text": [
      "Сентябрь - месяц, в котором вышло больше всего фильмов (227 шт.).\n"
     ]
    }
   ],
   "source": [
    "#------------------------------------------------------------------------------#\n",
    "cols = ['release_date', 'original_title']\n",
    "df = data2[cols].copy()\n",
    "# Посмотрим на какое-нибудь подходящее поле столбца 'release_date':\n",
    "f_date = df[cols[0]].iloc[2]\n",
    "print(f_date) # Структура: 'номер месяца/номер дня/год'\n",
    "# Используем пользовательскую функцию get_date для форматирования даты:\n",
    "print(get_date(f_date))\n",
    "# Воспользуемся этой функцией для преобразования даты в рабочем датафрейме:\n",
    "df.release_date = df.release_date.apply(get_date)\n",
    "display(df.head(3))\n",
    "# Нам нужны месяцы года, поэтому оставим в колонке \"release_date\" только месяцы:\n",
    "df.release_date = df.release_date.apply(lambda x : x.split()[1])\n",
    "# Добавим колонку сезонов:\n",
    "ssns = {\"Зима\":[\"Декабрь\", \"Январь\", \"Февраль\"],\n",
    "            \"Весна\":[\"Март\", \"Апрель\", \"Май\"],\n",
    "            \"Лето\":[\"Июнь\", \"Июль\", \"Август\"],\n",
    "            \"Осень\":[\"Сентябрь\", \"Октябрь\", \"Ноябрь\"]}\n",
    "sr = pd.Series(ssns).explode()\n",
    "df['seasons'] = df['release_date'] \n",
    "df.seasons = df.seasons.apply(lambda x : sr.loc[sr == x].index[0])\n",
    "# Искомая таблица:\n",
    "df_gr = df.groupby(['seasons', 'release_date'])[['original_title']].count()\n",
    "# Чуть украсим:\n",
    "df_gr = df_gr.rename_axis(index={'seasons': 'Сезон:', 'release_date': 'Месяцы:'})\n",
    "df_gr = df_gr.rename(columns={\"original_title\": \"Количество фильмов:\"})\n",
    "display(df_gr.T)\n",
    "# И по сезонам:\n",
    "df_sns = df_gr.groupby(level = 'Сезон:')[['Количество фильмов:']].sum()\n",
    "display(df_sns.T)\n",
    "# Ответ на вопрос:\n",
    "month = df_gr['Количество фильмов:'].idxmax()[1]\n",
    "num = df_gr['Количество фильмов:'].max()\n",
    "print(f'{month} - месяц, в котором вышло больше всего фильмов ({num} шт.).')"
   ]
  },
  {
   "cell_type": "markdown",
   "metadata": {
    "colab_type": "text",
    "id": "uAJsZ_NeVp_7"
   },
   "source": [
    "## 22. Сколько суммарно вышло фильмов летом? (за июнь, июль, август)\n",
    "Вариант 1. Используем ранее полученный результат."
   ]
  },
  {
   "cell_type": "code",
   "execution_count": 64,
   "metadata": {
    "colab": {},
    "colab_type": "code",
    "id": "Aa-hEREoVp_8"
   },
   "outputs": [],
   "source": [
    "answers['22'] = '450'"
   ]
  },
  {
   "cell_type": "code",
   "execution_count": 65,
   "metadata": {},
   "outputs": [
    {
     "name": "stdout",
     "output_type": "stream",
     "text": [
      "Летом суммарно вышло фильмов в количестве 450 шт.\n"
     ]
    }
   ],
   "source": [
    "num = df_sns.loc['Лето']['Количество фильмов:']\n",
    "print(f'Летом суммарно вышло фильмов в количестве {num} шт.')"
   ]
  },
  {
   "cell_type": "markdown",
   "metadata": {},
   "source": [
    "Вариант 2. Используем исходный формат даты ММ/ДД/ГГГ."
   ]
  },
  {
   "cell_type": "code",
   "execution_count": 66,
   "metadata": {},
   "outputs": [
    {
     "name": "stdout",
     "output_type": "stream",
     "text": [
      "Летом суммарно вышло фильмов в количестве 450 шт.\n"
     ]
    }
   ],
   "source": [
    "#------------------------------------------------------------------------------#\n",
    "cols = ['release_date', 'original_title']\n",
    "df2 = data2[cols].copy()\n",
    "# Превращаем поле даты в список из месяцев, дней и годов:\n",
    "df2.release_date = df2.release_date.str.split('/')\n",
    "# Оставляем только месяцы (преобразуем в целочисленный формат):\n",
    "df2.release_date = df2.release_date.apply(lambda x : int(x[0]))\n",
    "# Выбираем записи для летних месяцев (6 - июнь, 7 - июль, 8 - август):\n",
    "df2 = df2.query('release_date in [6, 7, 8]')\n",
    "# Ответ:\n",
    "num = df2.original_title.count()\n",
    "print(f'Летом суммарно вышло фильмов в количестве {num} шт.')"
   ]
  },
  {
   "cell_type": "markdown",
   "metadata": {},
   "source": [
    "Вариант 3. С использованием модуля date библиотеки datetime."
   ]
  },
  {
   "cell_type": "code",
   "execution_count": 67,
   "metadata": {},
   "outputs": [
    {
     "data": {
      "text/html": [
       "<div>\n",
       "<style scoped>\n",
       "    .dataframe tbody tr th:only-of-type {\n",
       "        vertical-align: middle;\n",
       "    }\n",
       "\n",
       "    .dataframe tbody tr th {\n",
       "        vertical-align: top;\n",
       "    }\n",
       "\n",
       "    .dataframe thead th {\n",
       "        text-align: right;\n",
       "    }\n",
       "</style>\n",
       "<table border=\"1\" class=\"dataframe\">\n",
       "  <thead>\n",
       "    <tr style=\"text-align: right;\">\n",
       "      <th></th>\n",
       "      <th>release_date</th>\n",
       "      <th>original_title</th>\n",
       "    </tr>\n",
       "  </thead>\n",
       "  <tbody>\n",
       "    <tr>\n",
       "      <th>0</th>\n",
       "      <td>June</td>\n",
       "      <td>Jurassic World</td>\n",
       "    </tr>\n",
       "    <tr>\n",
       "      <th>1</th>\n",
       "      <td>May</td>\n",
       "      <td>Mad Max: Fury Road</td>\n",
       "    </tr>\n",
       "    <tr>\n",
       "      <th>2</th>\n",
       "      <td>March</td>\n",
       "      <td>Insurgent</td>\n",
       "    </tr>\n",
       "    <tr>\n",
       "      <th>3</th>\n",
       "      <td>December</td>\n",
       "      <td>Star Wars: The Force Awakens</td>\n",
       "    </tr>\n",
       "    <tr>\n",
       "      <th>4</th>\n",
       "      <td>April</td>\n",
       "      <td>Furious 7</td>\n",
       "    </tr>\n",
       "  </tbody>\n",
       "</table>\n",
       "</div>"
      ],
      "text/plain": [
       "  release_date                original_title\n",
       "0         June                Jurassic World\n",
       "1          May            Mad Max: Fury Road\n",
       "2        March                     Insurgent\n",
       "3     December  Star Wars: The Force Awakens\n",
       "4        April                     Furious 7"
      ]
     },
     "metadata": {},
     "output_type": "display_data"
    },
    {
     "name": "stdout",
     "output_type": "stream",
     "text": [
      "Летом суммарно вышло фильмов в количестве 450 шт.\n"
     ]
    }
   ],
   "source": [
    "#------------------------------------------------------------------------------#\n",
    "cols = ['release_date', 'original_title']\n",
    "df2 = data2[cols].copy()\n",
    "# Рассказываем модулю datetime, в каком формате задана дата в release_date:\n",
    "df2.release_date = df2.release_date.apply(\n",
    "                                    lambda x: datetime.strptime(x, '%m/%d/%Y'))\n",
    "# Вычленяем месяцы:\n",
    "df2.release_date = df2.release_date.apply(lambda x: x.strftime('%B'))\n",
    "display(df2.head())\n",
    "# Подсчитываем фильмы в летние месяцы:\n",
    "num = df2.query('release_date in [\"June\", \"July\", \"August\"]').shape[0]\n",
    "print(f'Летом суммарно вышло фильмов в количестве {num} шт.')"
   ]
  },
  {
   "cell_type": "markdown",
   "metadata": {
    "colab_type": "text",
    "id": "G94ppOY1VqAA"
   },
   "source": [
    "## 23. Для какого режиссера зима – самое продуктивное время года?"
   ]
  },
  {
   "cell_type": "code",
   "execution_count": 68,
   "metadata": {},
   "outputs": [],
   "source": [
    "answers['23'] = 'Peter Jackson'"
   ]
  },
  {
   "cell_type": "code",
   "execution_count": 69,
   "metadata": {
    "colab": {},
    "colab_type": "code",
    "id": "RhNTsamuVqAB"
   },
   "outputs": [
    {
     "data": {
      "text/html": [
       "<div>\n",
       "<style scoped>\n",
       "    .dataframe tbody tr th:only-of-type {\n",
       "        vertical-align: middle;\n",
       "    }\n",
       "\n",
       "    .dataframe tbody tr th {\n",
       "        vertical-align: top;\n",
       "    }\n",
       "\n",
       "    .dataframe thead th {\n",
       "        text-align: right;\n",
       "    }\n",
       "</style>\n",
       "<table border=\"1\" class=\"dataframe\">\n",
       "  <thead>\n",
       "    <tr style=\"text-align: right;\">\n",
       "      <th></th>\n",
       "      <th>0</th>\n",
       "      <th>1</th>\n",
       "      <th>2</th>\n",
       "      <th>3</th>\n",
       "      <th>4</th>\n",
       "      <th>5</th>\n",
       "      <th>6</th>\n",
       "      <th>7</th>\n",
       "      <th>8</th>\n",
       "      <th>8</th>\n",
       "      <th>9</th>\n",
       "      <th>10</th>\n",
       "      <th>11</th>\n",
       "      <th>11</th>\n",
       "      <th>12</th>\n",
       "    </tr>\n",
       "  </thead>\n",
       "  <tbody>\n",
       "    <tr>\n",
       "      <th>director</th>\n",
       "      <td>Colin Trevorrow</td>\n",
       "      <td>George Miller</td>\n",
       "      <td>Robert Schwentke</td>\n",
       "      <td>J.J. Abrams</td>\n",
       "      <td>James Wan</td>\n",
       "      <td>Alejandro GonzÃ¡lez IÃ±Ã¡rritu</td>\n",
       "      <td>Alan Taylor</td>\n",
       "      <td>Ridley Scott</td>\n",
       "      <td>Kyle Balda</td>\n",
       "      <td>Pierre Coffin</td>\n",
       "      <td>Pete Docter</td>\n",
       "      <td>Sam Mendes</td>\n",
       "      <td>Lana Wachowski</td>\n",
       "      <td>Lilly Wachowski</td>\n",
       "      <td>Alex Garland</td>\n",
       "    </tr>\n",
       "    <tr>\n",
       "      <th>release_date</th>\n",
       "      <td>2015-06-09 00:00:00</td>\n",
       "      <td>2015-05-13 00:00:00</td>\n",
       "      <td>2015-03-18 00:00:00</td>\n",
       "      <td>2015-12-15 00:00:00</td>\n",
       "      <td>2015-04-01 00:00:00</td>\n",
       "      <td>2015-12-25 00:00:00</td>\n",
       "      <td>2015-06-23 00:00:00</td>\n",
       "      <td>2015-09-30 00:00:00</td>\n",
       "      <td>2015-06-17 00:00:00</td>\n",
       "      <td>2015-06-17 00:00:00</td>\n",
       "      <td>2015-06-09 00:00:00</td>\n",
       "      <td>2015-10-26 00:00:00</td>\n",
       "      <td>2015-02-04 00:00:00</td>\n",
       "      <td>2015-02-04 00:00:00</td>\n",
       "      <td>2015-01-21 00:00:00</td>\n",
       "    </tr>\n",
       "    <tr>\n",
       "      <th>original_title</th>\n",
       "      <td>Jurassic World</td>\n",
       "      <td>Mad Max: Fury Road</td>\n",
       "      <td>Insurgent</td>\n",
       "      <td>Star Wars: The Force Awakens</td>\n",
       "      <td>Furious 7</td>\n",
       "      <td>The Revenant</td>\n",
       "      <td>Terminator Genisys</td>\n",
       "      <td>The Martian</td>\n",
       "      <td>Minions</td>\n",
       "      <td>Minions</td>\n",
       "      <td>Inside Out</td>\n",
       "      <td>Spectre</td>\n",
       "      <td>Jupiter Ascending</td>\n",
       "      <td>Jupiter Ascending</td>\n",
       "      <td>Ex Machina</td>\n",
       "    </tr>\n",
       "  </tbody>\n",
       "</table>\n",
       "</div>"
      ],
      "text/plain": [
       "                                 0                    1                    2   \\\n",
       "director            Colin Trevorrow        George Miller     Robert Schwentke   \n",
       "release_date    2015-06-09 00:00:00  2015-05-13 00:00:00  2015-03-18 00:00:00   \n",
       "original_title       Jurassic World   Mad Max: Fury Road            Insurgent   \n",
       "\n",
       "                                          3                    4   \\\n",
       "director                         J.J. Abrams            James Wan   \n",
       "release_date             2015-12-15 00:00:00  2015-04-01 00:00:00   \n",
       "original_title  Star Wars: The Force Awakens            Furious 7   \n",
       "\n",
       "                                            5                    6   \\\n",
       "director        Alejandro GonzÃ¡lez IÃ±Ã¡rritu          Alan Taylor   \n",
       "release_date               2015-12-25 00:00:00  2015-06-23 00:00:00   \n",
       "original_title                    The Revenant   Terminator Genisys   \n",
       "\n",
       "                                 7                    8                    8   \\\n",
       "director               Ridley Scott           Kyle Balda        Pierre Coffin   \n",
       "release_date    2015-09-30 00:00:00  2015-06-17 00:00:00  2015-06-17 00:00:00   \n",
       "original_title          The Martian              Minions              Minions   \n",
       "\n",
       "                                 9                    10                   11  \\\n",
       "director                Pete Docter           Sam Mendes       Lana Wachowski   \n",
       "release_date    2015-06-09 00:00:00  2015-10-26 00:00:00  2015-02-04 00:00:00   \n",
       "original_title           Inside Out              Spectre    Jupiter Ascending   \n",
       "\n",
       "                                 11                   12  \n",
       "director            Lilly Wachowski         Alex Garland  \n",
       "release_date    2015-02-04 00:00:00  2015-01-21 00:00:00  \n",
       "original_title    Jupiter Ascending           Ex Machina  "
      ]
     },
     "metadata": {},
     "output_type": "display_data"
    },
    {
     "data": {
      "text/html": [
       "<div>\n",
       "<style scoped>\n",
       "    .dataframe tbody tr th:only-of-type {\n",
       "        vertical-align: middle;\n",
       "    }\n",
       "\n",
       "    .dataframe tbody tr th {\n",
       "        vertical-align: top;\n",
       "    }\n",
       "\n",
       "    .dataframe thead th {\n",
       "        text-align: right;\n",
       "    }\n",
       "</style>\n",
       "<table border=\"1\" class=\"dataframe\">\n",
       "  <thead>\n",
       "    <tr style=\"text-align: right;\">\n",
       "      <th>release_date</th>\n",
       "      <th>December</th>\n",
       "      <th>February</th>\n",
       "      <th>January</th>\n",
       "    </tr>\n",
       "    <tr>\n",
       "      <th>director</th>\n",
       "      <th></th>\n",
       "      <th></th>\n",
       "      <th></th>\n",
       "    </tr>\n",
       "  </thead>\n",
       "  <tbody>\n",
       "    <tr>\n",
       "      <th>Aaron Seltzer</th>\n",
       "      <td>0</td>\n",
       "      <td>1</td>\n",
       "      <td>2</td>\n",
       "    </tr>\n",
       "    <tr>\n",
       "      <th>Adam McKay</th>\n",
       "      <td>2</td>\n",
       "      <td>0</td>\n",
       "      <td>0</td>\n",
       "    </tr>\n",
       "    <tr>\n",
       "      <th>Adam Shankman</th>\n",
       "      <td>2</td>\n",
       "      <td>0</td>\n",
       "      <td>2</td>\n",
       "    </tr>\n",
       "    <tr>\n",
       "      <th>Akiva Goldsman</th>\n",
       "      <td>0</td>\n",
       "      <td>1</td>\n",
       "      <td>0</td>\n",
       "    </tr>\n",
       "    <tr>\n",
       "      <th>Alan Parker</th>\n",
       "      <td>0</td>\n",
       "      <td>1</td>\n",
       "      <td>0</td>\n",
       "    </tr>\n",
       "    <tr>\n",
       "      <th>...</th>\n",
       "      <td>...</td>\n",
       "      <td>...</td>\n",
       "      <td>...</td>\n",
       "    </tr>\n",
       "    <tr>\n",
       "      <th>Wes Anderson</th>\n",
       "      <td>1</td>\n",
       "      <td>1</td>\n",
       "      <td>0</td>\n",
       "    </tr>\n",
       "    <tr>\n",
       "      <th>Wes Craven</th>\n",
       "      <td>0</td>\n",
       "      <td>2</td>\n",
       "      <td>0</td>\n",
       "    </tr>\n",
       "    <tr>\n",
       "      <th>Will Gluck</th>\n",
       "      <td>1</td>\n",
       "      <td>0</td>\n",
       "      <td>0</td>\n",
       "    </tr>\n",
       "    <tr>\n",
       "      <th>Will Graham</th>\n",
       "      <td>0</td>\n",
       "      <td>0</td>\n",
       "      <td>1</td>\n",
       "    </tr>\n",
       "    <tr>\n",
       "      <th>Xavier Palud</th>\n",
       "      <td>0</td>\n",
       "      <td>1</td>\n",
       "      <td>0</td>\n",
       "    </tr>\n",
       "  </tbody>\n",
       "</table>\n",
       "<p>358 rows × 3 columns</p>\n",
       "</div>"
      ],
      "text/plain": [
       "release_date    December  February  January\n",
       "director                                   \n",
       "Aaron Seltzer          0         1        2\n",
       "Adam McKay             2         0        0\n",
       "Adam Shankman          2         0        2\n",
       "Akiva Goldsman         0         1        0\n",
       "Alan Parker            0         1        0\n",
       "...                  ...       ...      ...\n",
       "Wes Anderson           1         1        0\n",
       "Wes Craven             0         2        0\n",
       "Will Gluck             1         0        0\n",
       "Will Graham            0         0        1\n",
       "Xavier Palud           0         1        0\n",
       "\n",
       "[358 rows x 3 columns]"
      ]
     },
     "metadata": {},
     "output_type": "display_data"
    },
    {
     "name": "stdout",
     "output_type": "stream",
     "text": [
      "Для режиссёра по имени Peter Jackson зима - самое продуктивное время года.\n",
      "Именно в зимние месяцы он выпустил 7 фильмов.\n"
     ]
    }
   ],
   "source": [
    "#------------------------------------------------------------------------------#\n",
    "cols = ['director', 'release_date', 'original_title']\n",
    "df = data2[cols].copy()\n",
    "# Рассказываем модулю datetime, в каком формате задана дата в release_date:\n",
    "df.release_date = df.release_date.apply(\n",
    "                                    lambda x: datetime.strptime(x, '%m/%d/%Y'))\n",
    "# \"Расщепляем\" поля столбца \"director\" (пользовательская функция\n",
    "# в режиме DataFrame):\n",
    "df = df_explode(df, 'director', cnt=False)\n",
    "display(df.head(15).T)\n",
    "# ЧТО? Братья Вачовски теперь - \"Lana Wachowski\" и \"Lilly Wachowski\"?? Куда катится мир...\n",
    "# Заносим в release_date месяцы вместо полной даты:\n",
    "df.release_date = df.release_date.apply(lambda x: x.strftime('%B'))\n",
    "# Сводная таблица по зимним месяцам для режиссёров:\n",
    "df = df.query('release_date in [\"December\", \"January\", \"February\"]')\n",
    "df_pt = df.pivot_table(index = 'director', columns = 'release_date',\n",
    "                values = 'original_title', aggfunc = 'count', fill_value = 0)\n",
    "display(df_pt)\n",
    "# Ответ на Вопрос 23:\n",
    "num = df_pt[[\"December\", \"January\", \"February\"]].sum(axis=1).max()\n",
    "name = df_pt[[\"December\", \"January\", \"February\"]].sum(axis=1).idxmax()\n",
    "print(f'Для режиссёра по имени {name} зима - самое продуктивное время года.')\n",
    "print(f'Именно в зимние месяцы он выпустил {num} фильмов.')"
   ]
  },
  {
   "cell_type": "markdown",
   "metadata": {
    "colab_type": "text",
    "id": "RBo0JVjVVqAF"
   },
   "source": [
    "## 24. Какая студия дает самые длинные названия своим фильмам по количеству символов?"
   ]
  },
  {
   "cell_type": "code",
   "execution_count": 70,
   "metadata": {
    "colab": {},
    "colab_type": "code",
    "id": "QRGS8L0iVqAG"
   },
   "outputs": [],
   "source": [
    "answers['24'] = 'Four By Two Productions'"
   ]
  },
  {
   "cell_type": "code",
   "execution_count": 71,
   "metadata": {},
   "outputs": [
    {
     "name": "stdout",
     "output_type": "stream",
     "text": [
      "В среднем, самые длинные названия фильмов - у компании \"Four By Two Productions\".\n"
     ]
    }
   ],
   "source": [
    "#------------------------------------------------------------------------------#\n",
    "cols = ['production_companies', 'original_title']\n",
    "df = data2[cols].copy()\n",
    "# Сократим названия колонок:\n",
    "cols = ['prod', 'film']\n",
    "df.columns = cols\n",
    "# \"Растаскиваем\" группы компаний (пользовательская функция в режиме DataFrame):\n",
    "df = df_explode(df, 'prod', cnt = False)\n",
    "# Отыскиваем длину названий фильмов:\n",
    "df['Ленфильм'] = df['film'].astype(str).apply(len)\n",
    "# Группируем по компаниям с усреднением по длинам названий фильмов для каждой:\n",
    "df_gr = df.groupby('prod')[['Ленфильм']].mean()\n",
    "# Ответ на Вопрос 24:\n",
    "name = df_gr['Ленфильм'].idxmax()\n",
    "print(f'В среднем, самые длинные названия фильмов - у компании \"{name}\".')"
   ]
  },
  {
   "cell_type": "markdown",
   "metadata": {
    "colab_type": "text",
    "id": "9G0hbvR7VqAK"
   },
   "source": [
    "## 25. Описание фильмов какой студии в среднем самые длинные по количеству слов?"
   ]
  },
  {
   "cell_type": "code",
   "execution_count": 72,
   "metadata": {},
   "outputs": [],
   "source": [
    "answers['25'] = 'Midnight Picture Show'"
   ]
  },
  {
   "cell_type": "code",
   "execution_count": 73,
   "metadata": {
    "colab": {},
    "colab_type": "code",
    "id": "Ge2GsLNxVqAK"
   },
   "outputs": [
    {
     "name": "stdout",
     "output_type": "stream",
     "text": [
      "В среднем, самые длинные описания фильмов - у компании \"Midnight Picture Show\".\n",
      "Это описание единственного фильма данной компании: \"The Midnight Meat Train\",\n",
      "в этом описании ровно 1000 символов.\n"
     ]
    }
   ],
   "source": [
    "#------------------------------------------------------------------------------#\n",
    "cols = ['production_companies', 'overview']\n",
    "df = data2[cols].copy()\n",
    "# Сократим названия колонок:\n",
    "cols = ['prod', 'over']\n",
    "df.columns = cols\n",
    "# \"Растаскиваем\" группы компаний (пользовательская функция в режиме DataFrame):\n",
    "df = df_explode(df, 'prod', cnt = False)\n",
    "# Отыскиваем длину описаний фильмов:\n",
    "df['Ленфильм'] = df['over'].astype(str).apply(len)\n",
    "# Группируем по компаниям с усреднением по длинам описаний фильмов для каждой:\n",
    "df_gr = df.groupby('prod')[['Ленфильм']].mean()\n",
    "# Ответ на Вопрос 25:\n",
    "name = df_gr['Ленфильм'].idxmax()\n",
    "print(f'В среднем, самые длинные описания фильмов - у компании \"{name}\".')\n",
    "idx = data2[data2.production_companies.str.contains(\n",
    "                                            'Midnight Picture Show')].index\n",
    "name = data2.loc[idx].original_title.values[0]\n",
    "num = df_gr['Ленфильм'].max()\n",
    "print(f'Это описание единственного фильма данной компании: \"{name}\",')\n",
    "print(f'в этом описании ровно {int(num)} символов.')"
   ]
  },
  {
   "cell_type": "markdown",
   "metadata": {
    "colab_type": "text",
    "id": "FJ1AFt90VqAP"
   },
   "source": [
    "## 26. Какие фильмы входят в 1 процент лучших по рейтингу?"
   ]
  },
  {
   "cell_type": "code",
   "execution_count": 74,
   "metadata": {
    "colab": {},
    "colab_type": "code",
    "id": "8qmJVq4CVqAQ"
   },
   "outputs": [],
   "source": [
    "answers['26'] = 'Inside Out, The Dark Knight, 12 Years a Slave'"
   ]
  },
  {
   "cell_type": "code",
   "execution_count": 75,
   "metadata": {},
   "outputs": [
    {
     "name": "stdout",
     "output_type": "stream",
     "text": [
      "В 1% лучших по рейтингу входят все фильмы из варианта \"var1\":\n",
      "1. \"Inside Out\".\n",
      "2. \"The Dark Knight\".\n",
      "3. \"12 Years a Slave\".\n"
     ]
    }
   ],
   "source": [
    "#------------------------------------------------------------------------------#\n",
    "cols = ['original_title', 'vote_average']\n",
    "df = data2[cols].copy()\n",
    "# Используем функцию вычисления перцентиля (процентиля, короче - квартиля 0.99)\n",
    "# уровня 99%:\n",
    "rate_99 = np.percentile(df.vote_average, 99)\n",
    "df = df[df.vote_average >= rate_99].sort_values(by='vote_average',\n",
    "                                                ascending=False)\n",
    "# Варианты ответов с платформы:\n",
    "var = {'var1' : ['Inside Out', 'The Dark Knight', '12 Years a Slave'],\n",
    "          'var2' : ['BloodRayne', 'The Adventures of Rocky & Bullwinkle'], \n",
    "          'var3' : ['Batman Begins',\n",
    "                    'The Lord of the Rings: The Return of the King',\n",
    "                    'Upside Down'], \n",
    "          'var4' : ['300', 'Lucky Number Slevin', 'Kill Bill: Vol. 1'], \n",
    "          'var5' : ['Upside Down', 'Inside Out', 'Iron Man']}\n",
    "# Ответ на Вопрос 26:\n",
    "for k, v in var.items():\n",
    "    df2 = df[df.original_title.isin(v)]\n",
    "    if df2.original_title.count() == len(v):\n",
    "        print(f'В 1% лучших по рейтингу входят все фильмы из варианта \"{k}\":')\n",
    "        for i, val in enumerate(var[k], 1):\n",
    "            print(f'{i}. \"{val}\".')\n",
    "    break # Для определённости."
   ]
  },
  {
   "cell_type": "markdown",
   "metadata": {
    "colab_type": "text",
    "id": "MdXsUXbCVqAV"
   },
   "source": [
    "## 27. Какие актеры чаще всего снимаются в одном фильме вместе?\n",
    "Вариант 1. Используем \"комбинаторную\" функцию из itertools. Но не ту, что - самая популярная в Slack'е."
   ]
  },
  {
   "cell_type": "code",
   "execution_count": 76,
   "metadata": {
    "colab_type": "text",
    "id": "4ymnxEVoVqAW"
   },
   "outputs": [],
   "source": [
    "answers['27'] = 'Daniel Radcliffe & Rupert Grint'"
   ]
  },
  {
   "cell_type": "code",
   "execution_count": 77,
   "metadata": {},
   "outputs": [
    {
     "data": {
      "text/plain": [
       "(Daniel Radcliffe, Rupert Grint)       8\n",
       "(Emma Watson, Daniel Radcliffe)        8\n",
       "(Emma Watson, Rupert Grint)            8\n",
       "(Rupert Grint, Daniel Radcliffe)       8\n",
       "(Daniel Radcliffe, Emma Watson)        8\n",
       "(Rupert Grint, Emma Watson)            8\n",
       "(Helena Bonham Carter, Johnny Depp)    6\n",
       "Name: cast, dtype: int64"
      ]
     },
     "metadata": {},
     "output_type": "display_data"
    },
    {
     "name": "stdout",
     "output_type": "stream",
     "text": [
      "Чаще всего в одном фильме снимается пара Daniel Radcliffe & Rupert Grint.\n"
     ]
    }
   ],
   "source": [
    "#------------------------------------------------------------------------------#\n",
    "cols = ['original_title', 'cast']\n",
    "df = data2[cols].copy()\n",
    "# В Slack'е наиболее популярна функция combinations, которая вычисляет биномиальные\n",
    "# коэффициенты - число сочетаний из N элементов по k:\n",
    "# в нашем случае k = 2, N - текущее кол-во  актёров для текущего фильма.\n",
    "# Однако упорядоченные наборы (кортежи) вида (A, B) и (B, A) являются различными\n",
    "# для Питона (что понятно), но combinations их не учитывает. Можно, конечно,\n",
    "# предварительно сортировать списки актёрского состава к каждому фильму (например,\n",
    "# по алфавиту), но - зачем? - если есть функция permutations, которая вычисляет\n",
    "# классическое число размещений (бесповторный выбор) из N элементов по k?\n",
    "# Ею и воспользуемся:\n",
    "df.cast = df.cast.str.split('|').apply(lambda x: list(itt.permutations(x, 2)))\n",
    "df = df.explode('cast')\n",
    "display(df.cast.value_counts().head(7))\n",
    "# Ответ на Вопрос 27:\n",
    "name1, name2 = df.cast.value_counts().index[0]\n",
    "print(f'Чаще всего в одном фильме снимается пара {name1} & {name2}.')\n",
    "# Ну, конечно, легендарные Гарри Поттер и Рон Уизли - в восьми фильмах экранизации\n",
    "# семи частей Великой Книги Великой Джоанны... И Гермиона, конечно :)\n",
    "### Кстати! Результат расчёта нестабилен - после рестарта и пересчёта эта троица\n",
    "### по парам вылезает по-разному... Но всё равно - самая популярная.\n",
    "# Хотя мой любимый герой из \"Гарри Поттера\" - Хагрид, вот."
   ]
  },
  {
   "cell_type": "markdown",
   "metadata": {},
   "source": [
    "Вариант 2. \"Закат Солнца вручную\" - потому что долго..."
   ]
  },
  {
   "cell_type": "code",
   "execution_count": 78,
   "metadata": {},
   "outputs": [
    {
     "data": {
      "text/plain": [
       "[Emma Watson, Rupert Grint]         8\n",
       "[Daniel Radcliffe, Rupert Grint]    8\n",
       "[Daniel Radcliffe, Emma Watson]     8\n",
       "[Emma Watson, Daniel Radcliffe]     8\n",
       "[Rupert Grint, Emma Watson]         8\n",
       "[Rupert Grint, Daniel Radcliffe]    8\n",
       "[Owen Wilson, Ben Stiller]          6\n",
       "Name: cast, dtype: int64"
      ]
     },
     "metadata": {},
     "output_type": "display_data"
    },
    {
     "name": "stdout",
     "output_type": "stream",
     "text": [
      "Чаще всего в одном фильме снимается пара Emma Watson & Rupert Grint,\n",
      "а также - пара Daniel Radcliffe & Rupert Grint.\n"
     ]
    }
   ],
   "source": [
    "#------------------------------------------------------------------------------#\n",
    "cols = ['original_title', 'cast']\n",
    "df = data2[cols].copy()\n",
    "# Используем пользовательскую функцию \"permute\", которая \"эмулирует\" работу\n",
    "# функции \"permutations\" модуля itertools:\n",
    "df.cast = df.cast.apply(permute)\n",
    "df = df.explode('cast')\n",
    "display(df.cast.value_counts().head(7))\n",
    "# Ответ на Вопрос 27:\n",
    "name1, name2 = df.cast.value_counts().index[0]\n",
    "name12, name22 = df.cast.value_counts().index[1]\n",
    "print(f'Чаще всего в одном фильме снимается пара {name1} & {name2},')\n",
    "print(f'а также - пара {name12} & {name22}.')"
   ]
  },
  {
   "cell_type": "markdown",
   "metadata": {
    "colab_type": "text",
    "id": "U0nONFnGVqAX"
   },
   "source": [
    "# Submission"
   ]
  },
  {
   "cell_type": "code",
   "execution_count": 79,
   "metadata": {
    "colab": {},
    "colab_type": "code",
    "id": "IfcaRO9-VqAX",
    "outputId": "0f132912-32bb-4196-c98c-abfbc4ad5a5f"
   },
   "outputs": [
    {
     "data": {
      "text/plain": [
       "{'1': 'Pirates of the Caribbean: On Stranger Tides (tt1298650)',\n",
       " '2': 'Gods and Generals (tt0279111)',\n",
       " '3': 'Winnie the Pooh (tt1449283)',\n",
       " '4': '110',\n",
       " '5': '107',\n",
       " '6': 'Avatar (tt0499549)',\n",
       " '7': 'The Lone Ranger (tt1210819)',\n",
       " '8': '1478',\n",
       " '9': 'The Dark Knight (tt0468569)',\n",
       " '10': 'The Lone Ranger (tt1210819)',\n",
       " '11': 'Drama',\n",
       " '12': 'Drama',\n",
       " '13': 'Peter Jackson',\n",
       " '14': 'Robert Rodriguez',\n",
       " '15': 'Chris Hemsworth',\n",
       " '16': 'Matt Damon',\n",
       " '17': 'Action',\n",
       " '18': 'K-19: The Widowmaker (tt0267626)',\n",
       " '19': '2015',\n",
       " '20': '2014',\n",
       " '21': 'Сентябрь',\n",
       " '22': '450',\n",
       " '23': 'Peter Jackson',\n",
       " '24': 'Four By Two Productions',\n",
       " '25': 'Midnight Picture Show',\n",
       " '26': 'Inside Out, The Dark Knight, 12 Years a Slave',\n",
       " '27': 'Daniel Radcliffe & Rupert Grint'}"
      ]
     },
     "execution_count": 79,
     "metadata": {},
     "output_type": "execute_result"
    }
   ],
   "source": [
    "answers"
   ]
  },
  {
   "cell_type": "code",
   "execution_count": 80,
   "metadata": {
    "colab": {},
    "colab_type": "code",
    "id": "SiRmHPl8VqAd"
   },
   "outputs": [
    {
     "data": {
      "text/plain": [
       "27"
      ]
     },
     "execution_count": 80,
     "metadata": {},
     "output_type": "execute_result"
    }
   ],
   "source": [
    "len(answers)"
   ]
  },
  {
   "cell_type": "code",
   "execution_count": null,
   "metadata": {
    "colab": {},
    "colab_type": "code",
    "id": "uCfuTkRbVqAg"
   },
   "outputs": [],
   "source": []
  },
  {
   "cell_type": "code",
   "execution_count": null,
   "metadata": {
    "colab": {},
    "colab_type": "code",
    "id": "Vwx3NrkSVqAl"
   },
   "outputs": [],
   "source": []
  }
 ],
 "metadata": {
  "colab": {
   "name": "Copy of [SF-DST] Movies IMBD v4.1 TEMPLATE.ipynb",
   "provenance": []
  },
  "kernelspec": {
   "display_name": "Python 3",
   "language": "python",
   "name": "python3"
  },
  "language_info": {
   "codemirror_mode": {
    "name": "ipython",
    "version": 3
   },
   "file_extension": ".py",
   "mimetype": "text/x-python",
   "name": "python",
   "nbconvert_exporter": "python",
   "pygments_lexer": "ipython3",
   "version": "3.8.3"
  }
 },
 "nbformat": 4,
 "nbformat_minor": 1
}
